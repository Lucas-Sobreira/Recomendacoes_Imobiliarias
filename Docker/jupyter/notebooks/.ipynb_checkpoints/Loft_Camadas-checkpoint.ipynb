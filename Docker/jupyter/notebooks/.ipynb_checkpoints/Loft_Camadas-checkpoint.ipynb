{
 "cells": [
  {
   "cell_type": "markdown",
   "id": "c1477147-60e5-441a-95c0-df7d00c8f3a3",
   "metadata": {
    "jp-MarkdownHeadingCollapsed": true,
    "tags": []
   },
   "source": [
    "## Configuração"
   ]
  },
  {
   "cell_type": "code",
   "execution_count": 1,
   "id": "5af0fd95-dc77-4eaa-83da-013a018533c2",
   "metadata": {},
   "outputs": [
    {
     "data": {
      "text/html": [
       "<style>pre { white-space: pre !important; }</style>"
      ],
      "text/plain": [
       "<IPython.core.display.HTML object>"
      ]
     },
     "metadata": {},
     "output_type": "display_data"
    }
   ],
   "source": [
    "from pyspark.sql.types import *\n",
    "import pyspark.sql.functions as fn\n",
    "from pyspark.sql import SparkSession\n",
    "from IPython.core.display import HTML\n",
    "display(HTML(\"<style>pre { white-space: pre !important; }</style>\"))\n",
    "\n",
    "spark = (SparkSession.builder\n",
    "         .config(\"spark.jars\",\"\"\"/home/jovyan/jars/aws-java-sdk-core-1.11.534.jar,\n",
    "                                 /home/jovyan/jars/aws-java-sdk-dynamodb-1.11.534.jar,\n",
    "                                 /home/jovyan/jars/aws-java-sdk-s3-1.11.534.jar,\n",
    "                                 /home/jovyan/jars/hadoop-aws-3.2.2.jar\"\"\")\n",
    "         .config(\"spark.hadoop.fs.s3a.endpoint\", \"http://minio:9000\")\n",
    "         .config(\"spark.hadoop.fs.s3a.access.key\", \"aulafia\")\n",
    "         .config(\"spark.hadoop.fs.s3a.secret.key\", \"aulafia@123\")\n",
    "         .config(\"spark.hadoop.fs.s3a.path.style.access\", True)\n",
    "         .config(\"spark.hadoop.fs.s3a.impl\", \"org.apache.hadoop.fs.s3a.S3AFileSystem\")\n",
    "         .config(\"spark.hadoop.fs.s3a.aws.credentials.provider\", \"org.apache.hadoop.fs.s3a.SimpleAWSCredentialsProvider\")\n",
    "         .getOrCreate()\n",
    "        )"
   ]
  },
  {
   "cell_type": "markdown",
   "id": "24b5bea1-1a12-456c-8b3a-60c5198ba72b",
   "metadata": {
    "jp-MarkdownHeadingCollapsed": true,
    "tags": []
   },
   "source": [
    "# ETL - Raw"
   ]
  },
  {
   "cell_type": "markdown",
   "id": "0bf861fa-29e6-448a-b44d-9533c091c7c8",
   "metadata": {
    "tags": []
   },
   "source": [
    "## Lendo Camada Landing"
   ]
  },
  {
   "cell_type": "code",
   "execution_count": 12,
   "id": "8c575e6f-9259-4d1e-9cac-d9ae434409ab",
   "metadata": {},
   "outputs": [
    {
     "name": "stdout",
     "output_type": "stream",
     "text": [
      "+----------+----------------------------------------------------------------------------------------------------------------------------+---------------------------------------------------------------------------------------------------------------------------------------------------------------------------------------------------------+-------------+------------+---------------------------------------------------------------------------------------------------------------------------------------------------------------------------+\n",
      "|Refdate   |Link_Apto                                                                                                                   |Endereco                                                                                                                                                                                                 |Bairro       |Valor       |Informacoes                                                                                                                                                                |\n",
      "+----------+----------------------------------------------------------------------------------------------------------------------------+---------------------------------------------------------------------------------------------------------------------------------------------------------------------------------------------------------+-------------+------------+---------------------------------------------------------------------------------------------------------------------------------------------------------------------------+\n",
      "|17/06/2023|https://loft.com.br/imovel/apartamento-rua-silva-teles-pari-sao-paulo-3-quartos-69m2/1dasle7                                |['Apartamento à venda em Pari com 69 m²', ' 3 quartos', ' 1 suíte', ' 2 vagasCondomínio Living Elegance', ' Rua Silva Teles', ' Pari', ' São Paulo-SP']                                                  |Pari         |R$ 827.999  |['Andar alto4º andar em diante', '69 m²R$ 11.999 /m²', '3 quartos1 suíte', '2 vagas', '2 Banheiros', 'Varanda', 'Não - Mobiliado']                                         |\n",
      "|17/06/2023|https://loft.com.br/imovel/apartamento-rua-do-estilo-barroco-santo-amaro-sao-paulo-4-quartos-284m2/oofj5l                   |['Apartamento à venda em Santo Amaro com 284 m²', ' 4 quartos', ' 2 suítes', ' 4 vagasCondomínio Edificio Montmartre', ' Rua do Estilo Barroco', ' Santo Amaro', ' São Paulo-SP']                        |SantoAmaro   |R$ 2.200.000|['284 m²R$ 7.746 /m²', '4 quartos2 suítes', '4 vagas', '5 Banheiros', 'Metrô próximoestação a 191m', 'Não - Mobiliado']                                                    |\n",
      "|17/06/2023|https://loft.com.br/imovel/apartamento-praca-julio-prestes-campos-elisios-sao-paulo-2-quartos-86m2/lxlwa                    |['Apartamento à venda em Campos Elísios com 86 m²', ' 2 quartosCondomínio Edificio Miri', ' Praça Júlio Prestes', ' Campos Elísios', ' São Paulo-SP']                                                    |CamposElísios|R$ 360.000  |['Andar alto4º andar em diante', '86 m²R$ 4.186 /m²', '2 quartossem suíte', '2 Banheiros', 'Portaria24h', 'Metrô próximoestação a 716m', 'Não - Vagas', 'Não - Mobiliado'] |\n",
      "|17/06/2023|https://loft.com.br/imovel/apartamento-rua-bento-freitas-republica-sao-paulo-1-quarto-36m2/1wcyj4j                          |['Apartamento à venda em República com 36 m²', ' 1 quartoCondomínio Vibe Republica', ' Rua Bento Freitas', ' República', ' São Paulo-SP']                                                                |República    |R$ 450.000  |['36 m²R$ 12.500 /m²', '1 quartosem suíte', '1 Banheiro', 'Metrô próximoestação a 223m', 'Não - Vagas', 'Não - Mobiliado']                                                 |\n",
      "|17/06/2023|https://loft.com.br/imovel/apartamento-rua-oscar-freire-pinheiros-sao-paulo-1-quarto-18m2/bhazdt                            |['Apartamento à venda em Pinheiros com 18 m²', ' 1 quarto', ' 1 vagaCondomínio VN Oscar Freire', ' Rua Oscar Freire', ' Pinheiros', ' São Paulo-SP']                                                     |Pinheiros    |R$ 530.000  |['Andar alto4º andar em diante', '18 m²R$ 29.444 /m²', '1 quartosem suíte', '1 vaga', '1 Banheiro', 'Metrô próximoestação a 74m', 'Não - Mobiliado']                       |\n",
      "|17/06/2023|https://loft.com.br/imovel/apartamento-rua-marcos-fernandes-cursino-sao-paulo-4-quartos-300m2/ecl6za                        |['Apartamento à venda em Cursino com 300 m²', ' 4 quartos', ' 4 suítes', ' 4 vagasCondomínio Edificio La Residence', ' Rua Marcos Fernandes', ' Cursino', ' São Paulo-SP']                               |Cursino      |R$ 2.300.000|['Andar baixoAté 3º andar', '300 m²R$ 7.666 /m²', '4 quartos4 suítes', '4 vagas', '6 Banheiros', 'Varanda', 'Portaria24h', 'Não - Mobiliado']                              |\n",
      "|17/06/2023|https://loft.com.br/imovel/apartamento-avenida-raimundo-pereira-de-magalhaes-jaragua-sao-paulo-2-quartos-42m2/jvbnls        |['Apartamento à venda em Jaraguá com 42 m²', ' 2 quartosCondomínio Vila Austria', ' Avenida Raimundo Pereira de Magalhães', ' Jaraguá', ' São Paulo-SP']                                                 |Jaraguá      |R$ 230.000  |['Andar baixoAté 3º andar', '42 m²R$ 5.476 /m²', '2 quartossem suíte', '1 Banheiro', 'Portaria24h', 'Não - Vagas', 'Não - Mobiliado']                                      |\n",
      "|17/06/2023|https://loft.com.br/imovel/apartamento-rua-tucuna-perdizes-sao-paulo-3-quartos-147m2/ss84g0                                 |['Apartamento à venda em Perdizes com 147 m²', ' 3 quartos', ' 1 suíte', ' 2 vagasCondomínio Edificio Solar Dos Buzios', ' Rua Tucuna', ' Perdizes', ' São Paulo-SP']                                    |Perdizes     |R$ 1.190.000|['Andar alto4º andar em diante', '147 m²R$ 8.095 /m²', '3 quartos1 suíte', '2 vagas', '4 Banheiros', 'Sol da manhãna sala', '2 Varandas', 'Não - Mobiliado']               |\n",
      "|17/06/2023|https://loft.com.br/imovel/apartamento-rua-filipinas-alto-da-lapa-sao-paulo-2-quartos-55m2/1s75v70                          |['Apartamento à venda em Alto da Lapa com 55 m²', ' 2 quartos', ' 1 vagaCondomínio Edificio Principe Charles', ' Rua Filipinas', ' Alto da Lapa', ' São Paulo-SP']                                       |AltodaLapa   |R$ 445.000  |['Andar baixoAté 3º andar', '55 m²R$ 8.090 /m²', '2 quartossem suíte', '1 vaga', '1 Banheiro', 'Não - Mobiliado']                                                          |\n",
      "|17/06/2023|https://loft.com.br/imovel/apartamento-avenida-doutor-guilherme-dumont-vilares-vila-andrade-sao-paulo-3-quartos-156m2/xfhw6v|['Apartamento à venda em Vila Andrade com 156 m²', ' 3 quartos', ' 3 suítes', ' 3 vagasCondomínio Edificio Portal Braskel', ' Avenida Doutor Guilherme Dumont Vilares', ' Vila Andrade', ' São Paulo-SP']|VilaAndrade  |R$ 680.000  |['Andar baixoAté 3º andar', '156 m²R$ 4.358 /m²', '3 quartos3 suítes', '3 vagas', '5 Banheiros', 'Sol da manhãna sala', '2 Varandas', 'Portariaparcial', 'Não - Mobiliado']|\n",
      "+----------+----------------------------------------------------------------------------------------------------------------------------+---------------------------------------------------------------------------------------------------------------------------------------------------------------------------------------------------------+-------------+------------+---------------------------------------------------------------------------------------------------------------------------------------------------------------------------+\n",
      "only showing top 10 rows\n",
      "\n"
     ]
    }
   ],
   "source": [
    "path = 's3a://landing/'\n",
    "\n",
    "df_landing = spark.read.format('csv').option('header', 'true').load(path)\n",
    "\n",
    "df_landing.show(10, False)"
   ]
  },
  {
   "cell_type": "code",
   "execution_count": 13,
   "id": "09000bee-c88c-478f-91aa-03d67f90adff",
   "metadata": {},
   "outputs": [
    {
     "name": "stdout",
     "output_type": "stream",
     "text": [
      "Lendo todas as datas com dados armazenados no Minio\n",
      "\n",
      "+----------+\n",
      "|   Refdate|\n",
      "+----------+\n",
      "|17/06/2023|\n",
      "|02/05/2023|\n",
      "|03/06/2023|\n",
      "|17/04/2023|\n",
      "|17/05/2023|\n",
      "|02/07/2023|\n",
      "+----------+\n",
      "\n"
     ]
    }
   ],
   "source": [
    "print('Lendo todas as datas com dados armazenados no Minio\\n')\n",
    "\n",
    "df_landing.select('Refdate').distinct().show()"
   ]
  },
  {
   "cell_type": "code",
   "execution_count": 14,
   "id": "b043256a-1ebb-45fe-bc57-ecc0df3af599",
   "metadata": {},
   "outputs": [
    {
     "name": "stdout",
     "output_type": "stream",
     "text": [
      "root\n",
      " |-- Refdate: string (nullable = true)\n",
      " |-- Link_Apto: string (nullable = true)\n",
      " |-- Endereco: string (nullable = true)\n",
      " |-- Bairro: string (nullable = true)\n",
      " |-- Valor: string (nullable = true)\n",
      " |-- Informacoes: string (nullable = true)\n",
      "\n"
     ]
    }
   ],
   "source": [
    "df_landing.printSchema()"
   ]
  },
  {
   "cell_type": "code",
   "execution_count": 15,
   "id": "1169ab86-e651-4aae-aae9-4b9b63a204ef",
   "metadata": {},
   "outputs": [
    {
     "name": "stdout",
     "output_type": "stream",
     "text": [
      "+----------+----------------------------------------------------------------------------------------------------------------------------+---------------------------------------------------------------------------------------------------------------------------------------------------------------------------------------------------------+-------------+------------+---------------------------------------------------------------------------------------------------------------------------------------------------------------------------+\n",
      "|Refdate   |Link_Apto                                                                                                                   |Endereco                                                                                                                                                                                                 |Bairro       |Valor       |Informacoes                                                                                                                                                                |\n",
      "+----------+----------------------------------------------------------------------------------------------------------------------------+---------------------------------------------------------------------------------------------------------------------------------------------------------------------------------------------------------+-------------+------------+---------------------------------------------------------------------------------------------------------------------------------------------------------------------------+\n",
      "|2023-06-17|https://loft.com.br/imovel/apartamento-rua-silva-teles-pari-sao-paulo-3-quartos-69m2/1dasle7                                |['Apartamento à venda em Pari com 69 m²', ' 3 quartos', ' 1 suíte', ' 2 vagasCondomínio Living Elegance', ' Rua Silva Teles', ' Pari', ' São Paulo-SP']                                                  |Pari         |R$ 827.999  |['Andar alto4º andar em diante', '69 m²R$ 11.999 /m²', '3 quartos1 suíte', '2 vagas', '2 Banheiros', 'Varanda', 'Não - Mobiliado']                                         |\n",
      "|2023-06-17|https://loft.com.br/imovel/apartamento-rua-do-estilo-barroco-santo-amaro-sao-paulo-4-quartos-284m2/oofj5l                   |['Apartamento à venda em Santo Amaro com 284 m²', ' 4 quartos', ' 2 suítes', ' 4 vagasCondomínio Edificio Montmartre', ' Rua do Estilo Barroco', ' Santo Amaro', ' São Paulo-SP']                        |SantoAmaro   |R$ 2.200.000|['284 m²R$ 7.746 /m²', '4 quartos2 suítes', '4 vagas', '5 Banheiros', 'Metrô próximoestação a 191m', 'Não - Mobiliado']                                                    |\n",
      "|2023-06-17|https://loft.com.br/imovel/apartamento-praca-julio-prestes-campos-elisios-sao-paulo-2-quartos-86m2/lxlwa                    |['Apartamento à venda em Campos Elísios com 86 m²', ' 2 quartosCondomínio Edificio Miri', ' Praça Júlio Prestes', ' Campos Elísios', ' São Paulo-SP']                                                    |CamposElísios|R$ 360.000  |['Andar alto4º andar em diante', '86 m²R$ 4.186 /m²', '2 quartossem suíte', '2 Banheiros', 'Portaria24h', 'Metrô próximoestação a 716m', 'Não - Vagas', 'Não - Mobiliado'] |\n",
      "|2023-06-17|https://loft.com.br/imovel/apartamento-rua-bento-freitas-republica-sao-paulo-1-quarto-36m2/1wcyj4j                          |['Apartamento à venda em República com 36 m²', ' 1 quartoCondomínio Vibe Republica', ' Rua Bento Freitas', ' República', ' São Paulo-SP']                                                                |República    |R$ 450.000  |['36 m²R$ 12.500 /m²', '1 quartosem suíte', '1 Banheiro', 'Metrô próximoestação a 223m', 'Não - Vagas', 'Não - Mobiliado']                                                 |\n",
      "|2023-06-17|https://loft.com.br/imovel/apartamento-rua-oscar-freire-pinheiros-sao-paulo-1-quarto-18m2/bhazdt                            |['Apartamento à venda em Pinheiros com 18 m²', ' 1 quarto', ' 1 vagaCondomínio VN Oscar Freire', ' Rua Oscar Freire', ' Pinheiros', ' São Paulo-SP']                                                     |Pinheiros    |R$ 530.000  |['Andar alto4º andar em diante', '18 m²R$ 29.444 /m²', '1 quartosem suíte', '1 vaga', '1 Banheiro', 'Metrô próximoestação a 74m', 'Não - Mobiliado']                       |\n",
      "|2023-06-17|https://loft.com.br/imovel/apartamento-rua-marcos-fernandes-cursino-sao-paulo-4-quartos-300m2/ecl6za                        |['Apartamento à venda em Cursino com 300 m²', ' 4 quartos', ' 4 suítes', ' 4 vagasCondomínio Edificio La Residence', ' Rua Marcos Fernandes', ' Cursino', ' São Paulo-SP']                               |Cursino      |R$ 2.300.000|['Andar baixoAté 3º andar', '300 m²R$ 7.666 /m²', '4 quartos4 suítes', '4 vagas', '6 Banheiros', 'Varanda', 'Portaria24h', 'Não - Mobiliado']                              |\n",
      "|2023-06-17|https://loft.com.br/imovel/apartamento-avenida-raimundo-pereira-de-magalhaes-jaragua-sao-paulo-2-quartos-42m2/jvbnls        |['Apartamento à venda em Jaraguá com 42 m²', ' 2 quartosCondomínio Vila Austria', ' Avenida Raimundo Pereira de Magalhães', ' Jaraguá', ' São Paulo-SP']                                                 |Jaraguá      |R$ 230.000  |['Andar baixoAté 3º andar', '42 m²R$ 5.476 /m²', '2 quartossem suíte', '1 Banheiro', 'Portaria24h', 'Não - Vagas', 'Não - Mobiliado']                                      |\n",
      "|2023-06-17|https://loft.com.br/imovel/apartamento-rua-tucuna-perdizes-sao-paulo-3-quartos-147m2/ss84g0                                 |['Apartamento à venda em Perdizes com 147 m²', ' 3 quartos', ' 1 suíte', ' 2 vagasCondomínio Edificio Solar Dos Buzios', ' Rua Tucuna', ' Perdizes', ' São Paulo-SP']                                    |Perdizes     |R$ 1.190.000|['Andar alto4º andar em diante', '147 m²R$ 8.095 /m²', '3 quartos1 suíte', '2 vagas', '4 Banheiros', 'Sol da manhãna sala', '2 Varandas', 'Não - Mobiliado']               |\n",
      "|2023-06-17|https://loft.com.br/imovel/apartamento-rua-filipinas-alto-da-lapa-sao-paulo-2-quartos-55m2/1s75v70                          |['Apartamento à venda em Alto da Lapa com 55 m²', ' 2 quartos', ' 1 vagaCondomínio Edificio Principe Charles', ' Rua Filipinas', ' Alto da Lapa', ' São Paulo-SP']                                       |AltodaLapa   |R$ 445.000  |['Andar baixoAté 3º andar', '55 m²R$ 8.090 /m²', '2 quartossem suíte', '1 vaga', '1 Banheiro', 'Não - Mobiliado']                                                          |\n",
      "|2023-06-17|https://loft.com.br/imovel/apartamento-avenida-doutor-guilherme-dumont-vilares-vila-andrade-sao-paulo-3-quartos-156m2/xfhw6v|['Apartamento à venda em Vila Andrade com 156 m²', ' 3 quartos', ' 3 suítes', ' 3 vagasCondomínio Edificio Portal Braskel', ' Avenida Doutor Guilherme Dumont Vilares', ' Vila Andrade', ' São Paulo-SP']|VilaAndrade  |R$ 680.000  |['Andar baixoAté 3º andar', '156 m²R$ 4.358 /m²', '3 quartos3 suítes', '3 vagas', '5 Banheiros', 'Sol da manhãna sala', '2 Varandas', 'Portariaparcial', 'Não - Mobiliado']|\n",
      "+----------+----------------------------------------------------------------------------------------------------------------------------+---------------------------------------------------------------------------------------------------------------------------------------------------------------------------------------------------------+-------------+------------+---------------------------------------------------------------------------------------------------------------------------------------------------------------------------+\n",
      "only showing top 10 rows\n",
      "\n"
     ]
    }
   ],
   "source": [
    "df_raw = (df_landing\n",
    "          .withColumn('Refdate', fn.to_date(fn.col('Refdate'), 'dd/MM/yyyy')))\n",
    "\n",
    "df_raw.show(10, False)"
   ]
  },
  {
   "cell_type": "code",
   "execution_count": 16,
   "id": "e1ee0703-3dc3-4979-b464-45d454f30398",
   "metadata": {},
   "outputs": [
    {
     "name": "stdout",
     "output_type": "stream",
     "text": [
      "root\n",
      " |-- Refdate: date (nullable = true)\n",
      " |-- Link_Apto: string (nullable = true)\n",
      " |-- Endereco: string (nullable = true)\n",
      " |-- Bairro: string (nullable = true)\n",
      " |-- Valor: string (nullable = true)\n",
      " |-- Informacoes: string (nullable = true)\n",
      "\n"
     ]
    }
   ],
   "source": [
    "df_raw.printSchema()"
   ]
  },
  {
   "cell_type": "markdown",
   "id": "24ce66f5-6297-4c1e-a505-4ab621f4eb0f",
   "metadata": {
    "tags": []
   },
   "source": [
    "## Salvando Camada Raw"
   ]
  },
  {
   "cell_type": "code",
   "execution_count": 9,
   "id": "85e65824-2387-494a-85fc-ffed75d997e0",
   "metadata": {},
   "outputs": [],
   "source": [
    "(df_raw\n",
    " .write\n",
    " .format('parquet')\n",
    " .mode('overwrite')\n",
    " .partitionBy('Refdate')\n",
    " .save('s3a://raw/loft/'))"
   ]
  },
  {
   "cell_type": "code",
   "execution_count": 18,
   "id": "1f9ff652-3b70-46f1-b61a-34acdc5cb58e",
   "metadata": {},
   "outputs": [
    {
     "name": "stdout",
     "output_type": "stream",
     "text": [
      "+----------+----------------------------------------------------------------------------------------------------------------------------+---------------------------------------------------------------------------------------------------------------------------------------------------------------------------------------------------------+-------------+------------+---------------------------------------------------------------------------------------------------------------------------------------------------------------------------+\n",
      "|Refdate   |Link_Apto                                                                                                                   |Endereco                                                                                                                                                                                                 |Bairro       |Valor       |Informacoes                                                                                                                                                                |\n",
      "+----------+----------------------------------------------------------------------------------------------------------------------------+---------------------------------------------------------------------------------------------------------------------------------------------------------------------------------------------------------+-------------+------------+---------------------------------------------------------------------------------------------------------------------------------------------------------------------------+\n",
      "|2023-06-17|https://loft.com.br/imovel/apartamento-rua-silva-teles-pari-sao-paulo-3-quartos-69m2/1dasle7                                |['Apartamento à venda em Pari com 69 m²', ' 3 quartos', ' 1 suíte', ' 2 vagasCondomínio Living Elegance', ' Rua Silva Teles', ' Pari', ' São Paulo-SP']                                                  |Pari         |R$ 827.999  |['Andar alto4º andar em diante', '69 m²R$ 11.999 /m²', '3 quartos1 suíte', '2 vagas', '2 Banheiros', 'Varanda', 'Não - Mobiliado']                                         |\n",
      "|2023-06-17|https://loft.com.br/imovel/apartamento-rua-do-estilo-barroco-santo-amaro-sao-paulo-4-quartos-284m2/oofj5l                   |['Apartamento à venda em Santo Amaro com 284 m²', ' 4 quartos', ' 2 suítes', ' 4 vagasCondomínio Edificio Montmartre', ' Rua do Estilo Barroco', ' Santo Amaro', ' São Paulo-SP']                        |SantoAmaro   |R$ 2.200.000|['284 m²R$ 7.746 /m²', '4 quartos2 suítes', '4 vagas', '5 Banheiros', 'Metrô próximoestação a 191m', 'Não - Mobiliado']                                                    |\n",
      "|2023-06-17|https://loft.com.br/imovel/apartamento-praca-julio-prestes-campos-elisios-sao-paulo-2-quartos-86m2/lxlwa                    |['Apartamento à venda em Campos Elísios com 86 m²', ' 2 quartosCondomínio Edificio Miri', ' Praça Júlio Prestes', ' Campos Elísios', ' São Paulo-SP']                                                    |CamposElísios|R$ 360.000  |['Andar alto4º andar em diante', '86 m²R$ 4.186 /m²', '2 quartossem suíte', '2 Banheiros', 'Portaria24h', 'Metrô próximoestação a 716m', 'Não - Vagas', 'Não - Mobiliado'] |\n",
      "|2023-06-17|https://loft.com.br/imovel/apartamento-rua-bento-freitas-republica-sao-paulo-1-quarto-36m2/1wcyj4j                          |['Apartamento à venda em República com 36 m²', ' 1 quartoCondomínio Vibe Republica', ' Rua Bento Freitas', ' República', ' São Paulo-SP']                                                                |República    |R$ 450.000  |['36 m²R$ 12.500 /m²', '1 quartosem suíte', '1 Banheiro', 'Metrô próximoestação a 223m', 'Não - Vagas', 'Não - Mobiliado']                                                 |\n",
      "|2023-06-17|https://loft.com.br/imovel/apartamento-rua-oscar-freire-pinheiros-sao-paulo-1-quarto-18m2/bhazdt                            |['Apartamento à venda em Pinheiros com 18 m²', ' 1 quarto', ' 1 vagaCondomínio VN Oscar Freire', ' Rua Oscar Freire', ' Pinheiros', ' São Paulo-SP']                                                     |Pinheiros    |R$ 530.000  |['Andar alto4º andar em diante', '18 m²R$ 29.444 /m²', '1 quartosem suíte', '1 vaga', '1 Banheiro', 'Metrô próximoestação a 74m', 'Não - Mobiliado']                       |\n",
      "|2023-06-17|https://loft.com.br/imovel/apartamento-rua-marcos-fernandes-cursino-sao-paulo-4-quartos-300m2/ecl6za                        |['Apartamento à venda em Cursino com 300 m²', ' 4 quartos', ' 4 suítes', ' 4 vagasCondomínio Edificio La Residence', ' Rua Marcos Fernandes', ' Cursino', ' São Paulo-SP']                               |Cursino      |R$ 2.300.000|['Andar baixoAté 3º andar', '300 m²R$ 7.666 /m²', '4 quartos4 suítes', '4 vagas', '6 Banheiros', 'Varanda', 'Portaria24h', 'Não - Mobiliado']                              |\n",
      "|2023-06-17|https://loft.com.br/imovel/apartamento-avenida-raimundo-pereira-de-magalhaes-jaragua-sao-paulo-2-quartos-42m2/jvbnls        |['Apartamento à venda em Jaraguá com 42 m²', ' 2 quartosCondomínio Vila Austria', ' Avenida Raimundo Pereira de Magalhães', ' Jaraguá', ' São Paulo-SP']                                                 |Jaraguá      |R$ 230.000  |['Andar baixoAté 3º andar', '42 m²R$ 5.476 /m²', '2 quartossem suíte', '1 Banheiro', 'Portaria24h', 'Não - Vagas', 'Não - Mobiliado']                                      |\n",
      "|2023-06-17|https://loft.com.br/imovel/apartamento-rua-tucuna-perdizes-sao-paulo-3-quartos-147m2/ss84g0                                 |['Apartamento à venda em Perdizes com 147 m²', ' 3 quartos', ' 1 suíte', ' 2 vagasCondomínio Edificio Solar Dos Buzios', ' Rua Tucuna', ' Perdizes', ' São Paulo-SP']                                    |Perdizes     |R$ 1.190.000|['Andar alto4º andar em diante', '147 m²R$ 8.095 /m²', '3 quartos1 suíte', '2 vagas', '4 Banheiros', 'Sol da manhãna sala', '2 Varandas', 'Não - Mobiliado']               |\n",
      "|2023-06-17|https://loft.com.br/imovel/apartamento-rua-filipinas-alto-da-lapa-sao-paulo-2-quartos-55m2/1s75v70                          |['Apartamento à venda em Alto da Lapa com 55 m²', ' 2 quartos', ' 1 vagaCondomínio Edificio Principe Charles', ' Rua Filipinas', ' Alto da Lapa', ' São Paulo-SP']                                       |AltodaLapa   |R$ 445.000  |['Andar baixoAté 3º andar', '55 m²R$ 8.090 /m²', '2 quartossem suíte', '1 vaga', '1 Banheiro', 'Não - Mobiliado']                                                          |\n",
      "|2023-06-17|https://loft.com.br/imovel/apartamento-avenida-doutor-guilherme-dumont-vilares-vila-andrade-sao-paulo-3-quartos-156m2/xfhw6v|['Apartamento à venda em Vila Andrade com 156 m²', ' 3 quartos', ' 3 suítes', ' 3 vagasCondomínio Edificio Portal Braskel', ' Avenida Doutor Guilherme Dumont Vilares', ' Vila Andrade', ' São Paulo-SP']|VilaAndrade  |R$ 680.000  |['Andar baixoAté 3º andar', '156 m²R$ 4.358 /m²', '3 quartos3 suítes', '3 vagas', '5 Banheiros', 'Sol da manhãna sala', '2 Varandas', 'Portariaparcial', 'Não - Mobiliado']|\n",
      "+----------+----------------------------------------------------------------------------------------------------------------------------+---------------------------------------------------------------------------------------------------------------------------------------------------------------------------------------------------------+-------------+------------+---------------------------------------------------------------------------------------------------------------------------------------------------------------------------+\n",
      "only showing top 10 rows\n",
      "\n"
     ]
    }
   ],
   "source": [
    "df_raw.show(10, False)"
   ]
  },
  {
   "cell_type": "markdown",
   "id": "bf46462e-7919-424a-adaa-69c0708addd9",
   "metadata": {
    "jp-MarkdownHeadingCollapsed": true,
    "tags": []
   },
   "source": [
    "# ETL - Context"
   ]
  },
  {
   "cell_type": "markdown",
   "id": "0beed216-e533-48b0-a728-4eb2970fc106",
   "metadata": {
    "tags": []
   },
   "source": [
    "## Lendo Camada Raw"
   ]
  },
  {
   "cell_type": "code",
   "execution_count": 45,
   "id": "c2920477-a820-4aea-93b2-059c1a57b333",
   "metadata": {},
   "outputs": [
    {
     "name": "stdout",
     "output_type": "stream",
     "text": [
      "+--------------------------------------------------------------------------------------------------------------------+---------------------------------------------------------------------------------------------------------------------------------------------------------------------------------+-------------+------------+--------------------------------------------------------------------------------------------------------------------------------------------------------------------------+----------+\n",
      "|Link_Apto                                                                                                           |Endereco                                                                                                                                                                         |Bairro       |Valor       |Informacoes                                                                                                                                                               |Refdate   |\n",
      "+--------------------------------------------------------------------------------------------------------------------+---------------------------------------------------------------------------------------------------------------------------------------------------------------------------------+-------------+------------+--------------------------------------------------------------------------------------------------------------------------------------------------------------------------+----------+\n",
      "|https://loft.com.br/imovel/casa-rua-sao-felix-de-cantalicio-aricanduva-sao-paulo-3-quartos-382m2/kj3fsq             |['Casa à venda em Aricanduva com 382 m²', ' 3 quartos', ' 3 suítes', ' 8 vagasRua São Félix de Cantalício', ' Aricanduva', ' São Paulo-SP']                                      |Aricanduva   |R$ 1.900.000|['1 andar-', '382 m²R$ 4.973 /m²', '3 quartos3 suítes', '5 Banheiros', 'Não - Mobiliado']                                                                                 |2023-06-03|\n",
      "|https://loft.com.br/imovel/casa-rua-tavares-bastos-perdizes-sao-paulo-3-quartos-90m2/15y1fe8                        |['Casa à venda em Perdizes com 90 m²', ' 3 quartos', ' 1 suíte', ' 2 vagasRua Tavares Bastos', ' Perdizes', ' São Paulo-SP']                                                     |Perdizes     |R$ 650.000  |['1 andar-', '90 m²R$ 7.222 /m²', '3 quartos1 suíte', '3 Banheiros', 'Não - Mobiliado']                                                                                   |2023-06-03|\n",
      "|https://loft.com.br/imovel/apartamento-rua-silva-teles-pari-sao-paulo-3-quartos-69m2/1dasle7                        |['Apartamento à venda em Pari com 69 m²', ' 3 quartos', ' 1 suíte', ' 2 vagasCondomínio Living Elegance', ' Rua Silva Teles', ' Pari', ' São Paulo-SP']                          |Pari         |R$ 827.999  |['Andar alto4º andar em diante', '69 m²R$ 11.999 /m²', '3 quartos1 suíte', '2 vagas', '2 Banheiros', 'Varanda', 'Não - Mobiliado']                                        |2023-06-03|\n",
      "|https://loft.com.br/imovel/apartamento-rua-do-estilo-barroco-santo-amaro-sao-paulo-4-quartos-284m2/oofj5l           |['Apartamento à venda em Santo Amaro com 284 m²', ' 4 quartos', ' 2 suítes', ' 4 vagasCondomínio Edificio Montmartre', ' Rua do Estilo Barroco', ' Santo Amaro', ' São Paulo-SP']|SantoAmaro   |R$ 2.200.000|['284 m²R$ 7.746 /m²', '4 quartos2 suítes', '4 vagas', '5 Banheiros', 'Metrô próximoestação a 191m', 'Não - Mobiliado']                                                   |2023-06-03|\n",
      "|https://loft.com.br/imovel/apartamento-praca-julio-prestes-campos-elisios-sao-paulo-2-quartos-86m2/lxlwa            |['Apartamento à venda em Campos Elísios com 86 m²', ' 2 quartosCondomínio Edificio Miri', ' Praça Júlio Prestes', ' Campos Elísios', ' São Paulo-SP']                            |CamposElísios|R$ 360.000  |['Andar alto4º andar em diante', '86 m²R$ 4.186 /m²', '2 quartossem suíte', '2 Banheiros', 'Portaria24h', 'Metrô próximoestação a 716m', 'Não - Vagas', 'Não - Mobiliado']|2023-06-03|\n",
      "|https://loft.com.br/imovel/apartamento-rua-bento-freitas-republica-sao-paulo-1-quarto-36m2/1wcyj4j                  |['Apartamento à venda em República com 36 m²', ' 1 quartoCondomínio Vibe Republica', ' Rua Bento Freitas', ' República', ' São Paulo-SP']                                        |República    |R$ 450.000  |['36 m²R$ 12.500 /m²', '1 quartosem suíte', '1 Banheiro', 'Metrô próximoestação a 223m', 'Não - Vagas', 'Não - Mobiliado']                                                |2023-06-03|\n",
      "|https://loft.com.br/imovel/apartamento-rua-oscar-freire-pinheiros-sao-paulo-1-quarto-18m2/bhazdt                    |['Apartamento à venda em Pinheiros com 18 m²', ' 1 quarto', ' 1 vagaCondomínio VN Oscar Freire', ' Rua Oscar Freire', ' Pinheiros', ' São Paulo-SP']                             |Pinheiros    |R$ 530.000  |['Andar alto4º andar em diante', '18 m²R$ 29.444 /m²', '1 quartosem suíte', '1 vaga', '1 Banheiro', 'Metrô próximoestação a 74m', 'Não - Mobiliado']                      |2023-06-03|\n",
      "|https://loft.com.br/imovel/apartamento-rua-marcos-fernandes-cursino-sao-paulo-4-quartos-300m2/ecl6za                |['Apartamento à venda em Cursino com 300 m²', ' 4 quartos', ' 4 suítes', ' 4 vagasCondomínio Edificio La Residence', ' Rua Marcos Fernandes', ' Cursino', ' São Paulo-SP']       |Cursino      |R$ 2.300.000|['Andar baixoAté 3º andar', '300 m²R$ 7.666 /m²', '4 quartos4 suítes', '4 vagas', '6 Banheiros', 'Varanda', 'Portaria24h', 'Não - Mobiliado']                             |2023-06-03|\n",
      "|https://loft.com.br/imovel/apartamento-avenida-raimundo-pereira-de-magalhaes-jaragua-sao-paulo-2-quartos-42m2/jvbnls|['Apartamento à venda em Jaraguá com 42 m²', ' 2 quartosCondomínio Vila Austria', ' Avenida Raimundo Pereira de Magalhães', ' Jaraguá', ' São Paulo-SP']                         |Jaraguá      |R$ 230.000  |['Andar baixoAté 3º andar', '42 m²R$ 5.476 /m²', '2 quartossem suíte', '1 Banheiro', 'Portaria24h', 'Não - Vagas', 'Não - Mobiliado']                                     |2023-06-03|\n",
      "|https://loft.com.br/imovel/apartamento-rua-tucuna-perdizes-sao-paulo-3-quartos-147m2/ss84g0                         |['Apartamento à venda em Perdizes com 147 m²', ' 3 quartos', ' 1 suíte', ' 2 vagasCondomínio Edificio Solar Dos Buzios', ' Rua Tucuna', ' Perdizes', ' São Paulo-SP']            |Perdizes     |R$ 1.190.000|['Andar alto4º andar em diante', '147 m²R$ 8.095 /m²', '3 quartos1 suíte', '2 vagas', '4 Banheiros', 'Sol da manhãna sala', '2 Varandas', 'Não - Mobiliado']              |2023-06-03|\n",
      "+--------------------------------------------------------------------------------------------------------------------+---------------------------------------------------------------------------------------------------------------------------------------------------------------------------------+-------------+------------+--------------------------------------------------------------------------------------------------------------------------------------------------------------------------+----------+\n",
      "only showing top 10 rows\n",
      "\n"
     ]
    }
   ],
   "source": [
    "path = 's3a://raw/data'\n",
    "\n",
    "df_raw = spark.read.format('parquet').load(path)\n",
    "\n",
    "df_raw.show(10, False)"
   ]
  },
  {
   "cell_type": "markdown",
   "id": "bed03023-b960-4cb6-b6d9-5e78256f55a3",
   "metadata": {
    "jp-MarkdownHeadingCollapsed": true,
    "tags": []
   },
   "source": [
    "## Funções Auxiliares - Regex"
   ]
  },
  {
   "cell_type": "code",
   "execution_count": 46,
   "id": "3fc201b3-27f0-46df-bed7-ddb30e36864a",
   "metadata": {},
   "outputs": [],
   "source": [
    "import re"
   ]
  },
  {
   "cell_type": "code",
   "execution_count": 49,
   "id": "afad3bbe-6f3e-4a71-8e91-ecf9368de4be",
   "metadata": {},
   "outputs": [],
   "source": [
    "# Ajustando a Coluna Valor -> Retirando o R$ e a separação de .\n",
    "def valor(str):\n",
    "    return (str\n",
    "            .replace(\"R$ \", \"\")\n",
    "            .replace(\".\", \"\")\n",
    "           )\n",
    "\n",
    "# Função \"Explode\" na coluna Endereço\n",
    "def endereco(str):\n",
    "    padroes = [\n",
    "        r'Cond[a-z].+SP',\n",
    "        r'Ru[a-z].+SP',\n",
    "        r'Av[a-z].+SP',\n",
    "        r'Praç[a-z].+SP',\n",
    "        r'Alamed[a-z].+SP',\n",
    "        r'Travess[a-z].+SP',\n",
    "        r'Parqu[a-z].+SP',\n",
    "        r'Viel[a-z].+SP', \n",
    "        r'Vil[a-z].+SP', \n",
    "        r'Lar[a-z].+SP',\n",
    "        r'Estr[a-z].+SP', \n",
    "        r'Jar[a-z].+SP', \n",
    "        r'Viad[a-z].+SP'\n",
    "    ]\n",
    "\n",
    "    for padrao in padroes:\n",
    "        resultado = re.findall(padrao, str.replace('Condomínio à venda', ''))\n",
    "        if resultado:\n",
    "            return (resultado[0]\n",
    "                    .replace(\"', ' \", \"-\")\n",
    "                    .replace('-', ' - ')\n",
    "                    .replace('\" ', '')\n",
    "                    .replace('\"', '')\n",
    "                    .replace(\"' \", '')\n",
    "                    .replace(\", \", \" - \")\n",
    "                   )\n",
    "\n",
    "    # Se nenhum padrão foi encontrado, retorna None\n",
    "    return None\n",
    "\n",
    "# Bairro\n",
    "def bairro(str):  \n",
    "    return re.sub(r'(?<!^)(?=[A-Z])', ' ', str)\n",
    "\n",
    "## Explode Infos\n",
    "# Andares\n",
    "def andares(str):\n",
    "    # Andares\n",
    "    regex = r'[0-9]º\\s[a-z]+\\s[a-z]+\\s[a-z]+'\n",
    "    request = re.findall(regex, str)\n",
    "    if request:\n",
    "        return request[0]\n",
    "\n",
    "    regex = r'Entre\\s[0-9]º\\sa\\s[0-9]º\\s\\w+'\n",
    "    request = re.findall(regex, str)\n",
    "    if request:\n",
    "        return request[0]\n",
    "\n",
    "    floor_regex = r'[0-9]º\\sandar'\n",
    "    request = re.findall(floor_regex, str)\n",
    "    if request:\n",
    "        return request[0]\n",
    "\n",
    "    return 'Sem info'\n",
    "\n",
    "# Tamanho\n",
    "def tamanho(str):\n",
    "    regex = r'[0-9]+\\sm²'\n",
    "    request = re.findall(regex, str)\n",
    "    if request:\n",
    "        return int(request[0].split(' m²')[0])\n",
    "\n",
    "    return 0 \n",
    "\n",
    "#Preco\n",
    "def preco(str): \n",
    "    regex = r'R\\$\\s[0-9]+\\.[0-9]+\\s\\/m²|R\\$\\s[0-9]+\\s\\/m²'\n",
    "    request = re.findall(regex, str)\n",
    "    if request:\n",
    "        return int(request[0]\n",
    "                   .split('R$ ')[1]\n",
    "                   .split(' /m²')[0]\n",
    "                   .replace('.', ''))\n",
    "\n",
    "    return 0 \n",
    "\n",
    "# Quartos\n",
    "# Considerando que Studio tem 1 quarto\n",
    "def quartos(str):\n",
    "    regex = r'[0-9]\\squarto[s]?'\n",
    "    request = re.findall(regex, str)\n",
    "    if request:\n",
    "        return (request[0]\n",
    "                .split('qua')[0])\n",
    "\n",
    "    regex = r'studio'\n",
    "    request = re.findall(regex, str)\n",
    "    if request:\n",
    "        return '1'\n",
    "\n",
    "    return 'Sem info'\n",
    "\n",
    "# Suites\n",
    "def suite(str):\n",
    "    regex = r'[0-9]\\ssuíte'\n",
    "    request = re.findall(regex, str)\n",
    "    if request: \n",
    "        return int(request[0]\n",
    "                   .split(' su')[0])\n",
    "\n",
    "    regex = r'sem\\ssuíte'\n",
    "    request = re.findall(regex, str)\n",
    "    if request: \n",
    "        return 0\n",
    "    \n",
    "    return 0 \n",
    "\n",
    "# Garagem\n",
    "def garagem(str):\n",
    "    regex = r'Não\\s\\-\\sVag\\w+'\n",
    "    request = re.findall(regex, str)\n",
    "    if request:\n",
    "        return 0 \n",
    "    \n",
    "    regex = r'[0-9]\\svag\\w+'\n",
    "    request = re.findall(regex, str)\n",
    "    if request: \n",
    "        return int(request[0]\n",
    "                   .split(' va')[0])\n",
    "    \n",
    "    return 0 \n",
    "    \n",
    "# Banheiros\n",
    "def banheiros(str):\n",
    "    regex = r'[0-9]\\sBan\\w+'\n",
    "    request = re.findall(regex, str)\n",
    "    if request: \n",
    "        return int(request[0]\n",
    "                   .split(' Ba')[0])\n",
    "    \n",
    "    return 0 \n",
    "\n",
    "# Varanda\n",
    "def varanda(str):\n",
    "    regex = r'[0-9]\\sVar\\w+s'\n",
    "    request = re.findall(regex, str)\n",
    "    if request:\n",
    "        return int(request[0]\n",
    "                   .split(' Va')[0])\n",
    "\n",
    "    regex = r'Var\\w+a'\n",
    "    request = re.findall(regex, str)\n",
    "    if request:\n",
    "        return 1\n",
    "    \n",
    "    return 0 \n",
    "\n",
    "# Mobiliado\n",
    "def mobiliado(str):\n",
    "    regex = r'Não\\s\\-\\sMob\\w+'\n",
    "    request = re.findall(regex, str)\n",
    "    if request:\n",
    "        return 'Não'\n",
    "    \n",
    "    regex = r'Mob\\w+'\n",
    "    request = re.findall(regex, str)\n",
    "    if request:\n",
    "        return 'Sim'\n",
    "    \n",
    "# Portaria\n",
    "def portaria(str):\n",
    "    regex = r'Por\\w+'\n",
    "    request = re.findall(regex, str)\n",
    "    if request: \n",
    "        if (request[0] == 'Portaria24h'): \n",
    "            return '24h'\n",
    "        \n",
    "        elif (request[0] == 'Portariaparcial'): \n",
    "            return 'Parcial'\n",
    "    \n",
    "    return 'Sem descrição'\n",
    "\n",
    "# Metro\n",
    "def metro(str):\n",
    "    regex = r'Metrô'\n",
    "    request = re.findall(regex, str)\n",
    "    if request: \n",
    "        regex = r'a\\s[0-9]+m'\n",
    "        request = re.findall(regex, str)\n",
    "        return int(request[0]\n",
    "                   .replace('a ', '')\n",
    "                   .replace('m', ''))\n",
    "\n",
    "    else: \n",
    "        return 100000000"
   ]
  },
  {
   "cell_type": "markdown",
   "id": "e1fcb2eb-6da0-4edb-9895-5d4bdf600293",
   "metadata": {
    "jp-MarkdownHeadingCollapsed": true,
    "tags": []
   },
   "source": [
    "## Aplicando Regex"
   ]
  },
  {
   "cell_type": "code",
   "execution_count": 50,
   "id": "92abe327-e525-46d2-a7e2-417152a7f326",
   "metadata": {},
   "outputs": [],
   "source": [
    "valor_UDF     = fn.udf(lambda z: valor(z))\n",
    "endereco_UDF  = fn.udf(lambda z: endereco(z))\n",
    "bairro_UDF    = fn.udf(lambda z: bairro(z))\n",
    "andares_UDF   = fn.udf(lambda z: andares(z))\n",
    "tamanho_UDF   = fn.udf(lambda z: tamanho(z))\n",
    "preco_UDF     = fn.udf(lambda z: preco(z))\n",
    "quartos_UDF   = fn.udf(lambda z: quartos(z))\n",
    "suite_UDF     = fn.udf(lambda z: suite(z))\n",
    "garagem_UDF   = fn.udf(lambda z: garagem(z))\n",
    "banheiros_UDF = fn.udf(lambda z: banheiros(z))\n",
    "varanda_UDF   = fn.udf(lambda z: varanda(z))\n",
    "mobiliado_UDF = fn.udf(lambda z: mobiliado(z))\n",
    "portaria_UDF  = fn.udf(lambda z: portaria(z))\n",
    "metro_UDF     = fn.udf(lambda z: metro(z))"
   ]
  },
  {
   "cell_type": "code",
   "execution_count": 51,
   "id": "63e77117-8264-4f5e-a643-e35537700ebb",
   "metadata": {},
   "outputs": [
    {
     "name": "stdout",
     "output_type": "stream",
     "text": [
      "+--------------------------------------------------------------------------------------------------------------------+------------------------------------------------------------------------------------------+--------------+--------+------------------+----------+-----------+-------+------+-------+---------+-------+---------+-------------+---------+----------+\n",
      "|Link_Apto                                                                                                           |Endereco                                                                                  |Bairro        |Valor_RS|Andares           |Tamanho_m2|Valor_RS/m2|Quartos|Suites|Garagem|Banheiros|Varanda|Mobiliado|Portaria     |Metro    |Refdate   |\n",
      "+--------------------------------------------------------------------------------------------------------------------+------------------------------------------------------------------------------------------+--------------+--------+------------------+----------+-----------+-------+------+-------+---------+-------+---------+-------------+---------+----------+\n",
      "|https://loft.com.br/imovel/casa-rua-sao-felix-de-cantalicio-aricanduva-sao-paulo-3-quartos-382m2/kj3fsq             |Rua São Félix de Cantalício - Aricanduva - São Paulo - SP                                 |Aricanduva    |1900000 |Sem info          |382       |4973       |3      |3     |0      |5        |0      |Não      |Sem descrição|100000000|2023-06-03|\n",
      "|https://loft.com.br/imovel/casa-rua-tavares-bastos-perdizes-sao-paulo-3-quartos-90m2/15y1fe8                        |Rua Tavares Bastos - Perdizes - São Paulo - SP                                            |Perdizes      |650000  |Sem info          |90        |7222       |3      |1     |0      |3        |0      |Não      |Sem descrição|100000000|2023-06-03|\n",
      "|https://loft.com.br/imovel/apartamento-rua-silva-teles-pari-sao-paulo-3-quartos-69m2/1dasle7                        |Condomínio Living Elegance - Rua Silva Teles - Pari - São Paulo - SP                      |Pari          |827999  |4º andar em diante|69        |11999      |3      |1     |2      |2        |1      |Não      |Sem descrição|100000000|2023-06-03|\n",
      "|https://loft.com.br/imovel/apartamento-rua-do-estilo-barroco-santo-amaro-sao-paulo-4-quartos-284m2/oofj5l           |Condomínio Edificio Montmartre - Rua do Estilo Barroco - Santo Amaro - São Paulo - SP     |Santo Amaro   |2200000 |Sem info          |284       |7746       |4      |2     |4      |5        |0      |Não      |Sem descrição|191      |2023-06-03|\n",
      "|https://loft.com.br/imovel/apartamento-praca-julio-prestes-campos-elisios-sao-paulo-2-quartos-86m2/lxlwa            |Condomínio Edificio Miri - Praça Júlio Prestes - Campos Elísios - São Paulo - SP          |Campos Elísios|360000  |4º andar em diante|86        |4186       |2      |0     |0      |2        |0      |Não      |24h          |716      |2023-06-03|\n",
      "|https://loft.com.br/imovel/apartamento-rua-bento-freitas-republica-sao-paulo-1-quarto-36m2/1wcyj4j                  |Condomínio Vibe Republica - Rua Bento Freitas - República - São Paulo - SP                |República     |450000  |Sem info          |36        |12500      |1      |0     |0      |1        |0      |Não      |Sem descrição|223      |2023-06-03|\n",
      "|https://loft.com.br/imovel/apartamento-rua-oscar-freire-pinheiros-sao-paulo-1-quarto-18m2/bhazdt                    |Condomínio VN Oscar Freire - Rua Oscar Freire - Pinheiros - São Paulo - SP                |Pinheiros     |530000  |4º andar em diante|18        |29444      |1      |0     |1      |1        |0      |Não      |Sem descrição|74       |2023-06-03|\n",
      "|https://loft.com.br/imovel/apartamento-rua-marcos-fernandes-cursino-sao-paulo-4-quartos-300m2/ecl6za                |Condomínio Edificio La Residence - Rua Marcos Fernandes - Cursino - São Paulo - SP        |Cursino       |2300000 |3º andar          |300       |7666       |4      |4     |4      |6        |1      |Não      |24h          |100000000|2023-06-03|\n",
      "|https://loft.com.br/imovel/apartamento-avenida-raimundo-pereira-de-magalhaes-jaragua-sao-paulo-2-quartos-42m2/jvbnls|Condomínio Vila Austria - Avenida Raimundo Pereira de Magalhães - Jaraguá - São Paulo - SP|Jaraguá       |230000  |3º andar          |42        |5476       |2      |0     |0      |1        |0      |Não      |24h          |100000000|2023-06-03|\n",
      "|https://loft.com.br/imovel/apartamento-rua-tucuna-perdizes-sao-paulo-3-quartos-147m2/ss84g0                         |Condomínio Edificio Solar Dos Buzios - Rua Tucuna - Perdizes - São Paulo - SP             |Perdizes      |1190000 |4º andar em diante|147       |8095       |3      |1     |2      |4        |2      |Não      |Sem descrição|100000000|2023-06-03|\n",
      "+--------------------------------------------------------------------------------------------------------------------+------------------------------------------------------------------------------------------+--------------+--------+------------------+----------+-----------+-------+------+-------+---------+-------+---------+-------------+---------+----------+\n",
      "only showing top 10 rows\n",
      "\n"
     ]
    }
   ],
   "source": [
    "df_context = (df_raw\n",
    "              .withColumn('Valor', valor_UDF(fn.col('Valor')))\n",
    "              .withColumn('Endereco', endereco_UDF(fn.col('Endereco')))\n",
    "              .withColumn('Bairro', bairro_UDF(fn.col('Bairro')))\n",
    "              .withColumn('Andares', andares_UDF(fn.col('Informacoes')))\n",
    "              .withColumn('Tamanho_m2', tamanho_UDF(fn.col('Informacoes')))\n",
    "              .withColumn('Valor_RS/m2', preco_UDF(fn.col('Informacoes')))\n",
    "              .withColumn('Quartos', quartos_UDF(fn.col('Informacoes')))\n",
    "              .withColumn('Suites', suite_UDF(fn.col('Informacoes')))\n",
    "              .withColumn('Garagem', garagem_UDF(fn.col('Informacoes')))\n",
    "              .withColumn('Banheiros', banheiros_UDF(fn.col('Informacoes')))\n",
    "              .withColumn('Varanda', varanda_UDF(fn.col('Informacoes')))\n",
    "              .withColumn('Mobiliado', mobiliado_UDF(fn.col('Informacoes')))\n",
    "              .withColumn('Portaria', portaria_UDF(fn.col('Informacoes')))\n",
    "              .withColumn('Metro', metro_UDF(fn.col('Informacoes')))\n",
    "             )\n",
    "\n",
    "df_context = (df_context\n",
    "              .drop(fn.col('Informacoes'))\n",
    "              .withColumnRenamed(\"Valor\", \"Valor_RS\")\n",
    "             )\n",
    "\n",
    "df_context = (df_context\n",
    "              .select('Link_Apto', 'Endereco', 'Bairro', fn.col('Valor_RS').cast('integer'), 'Andares', \n",
    "                      fn.col('Tamanho_m2').cast('integer'), fn.col('Valor_RS/m2').cast('integer'), fn.col('Quartos').cast('integer'), \n",
    "                      fn.col('Suites').cast('integer'), fn.col('Garagem').cast('integer'), fn.col('Banheiros').cast('integer'), \n",
    "                      fn.col('Varanda').cast('integer'), 'Mobiliado', 'Portaria', fn.col('Metro').cast('integer'), 'Refdate'\n",
    "                     )\n",
    "             )\n",
    "\n",
    "# Elimando \"sujeira\" da Raw\n",
    "df_context = (df_context.filter(fn.col('Valor_RS').isNotNull()))\n",
    "\n",
    "df_context.show(10, False)"
   ]
  },
  {
   "cell_type": "markdown",
   "id": "733f2063-63d2-470a-b74f-914a3c7f0cbb",
   "metadata": {
    "tags": []
   },
   "source": [
    "## Salvando Camada Context"
   ]
  },
  {
   "cell_type": "code",
   "execution_count": 29,
   "id": "6ac12b1f-61da-4b9d-b2ba-a1f08b5afaac",
   "metadata": {},
   "outputs": [],
   "source": [
    "(df_context\n",
    " .write\n",
    " .format('parquet')\n",
    " .mode('overwrite')\n",
    " .partitionBy('Refdate')\n",
    " .save('s3a://context/loft/'))"
   ]
  },
  {
   "cell_type": "markdown",
   "id": "dec601b0-7af0-476c-854c-91600496cb10",
   "metadata": {
    "jp-MarkdownHeadingCollapsed": true,
    "tags": []
   },
   "source": [
    "# ETL - Trust"
   ]
  },
  {
   "cell_type": "markdown",
   "id": "5722e153-161c-463f-a2a3-fe9d607f779a",
   "metadata": {
    "tags": []
   },
   "source": [
    "### Lendo a Camada Context"
   ]
  },
  {
   "cell_type": "code",
   "execution_count": 3,
   "id": "199800eb-7c17-4287-9ea8-21fe457db83f",
   "metadata": {},
   "outputs": [
    {
     "name": "stdout",
     "output_type": "stream",
     "text": [
      "+--------------------------------------------------------------------------------------------------------------------+------------------------------------------------------------------------------------------+--------------+--------+------------------+----------+-----------+-------+------+-------+---------+-------+---------+-------------+---------+----------+\n",
      "|Link_Apto                                                                                                           |Endereco                                                                                  |Bairro        |Valor_RS|Andares           |Tamanho_m2|Valor_RS/m2|Quartos|Suites|Garagem|Banheiros|Varanda|Mobiliado|Portaria     |Metro    |Refdate   |\n",
      "+--------------------------------------------------------------------------------------------------------------------+------------------------------------------------------------------------------------------+--------------+--------+------------------+----------+-----------+-------+------+-------+---------+-------+---------+-------------+---------+----------+\n",
      "|https://loft.com.br/imovel/casa-rua-sao-felix-de-cantalicio-aricanduva-sao-paulo-3-quartos-382m2/kj3fsq             |Rua São Félix de Cantalício - Aricanduva - São Paulo - SP                                 |Aricanduva    |1900000 |null              |382       |4973       |3      |3     |0      |5        |0      |Não      |Sem descrição|100000000|2023-06-03|\n",
      "|https://loft.com.br/imovel/casa-rua-tavares-bastos-perdizes-sao-paulo-3-quartos-90m2/15y1fe8                        |Rua Tavares Bastos - Perdizes - São Paulo - SP                                            |Perdizes      |650000  |null              |90        |7222       |3      |1     |0      |3        |0      |Não      |Sem descrição|100000000|2023-06-03|\n",
      "|https://loft.com.br/imovel/apartamento-rua-silva-teles-pari-sao-paulo-3-quartos-69m2/1dasle7                        |Condomínio Living Elegance - Rua Silva Teles - Pari - São Paulo - SP                      |Pari          |827999  |4º andar em diante|69        |11999      |3      |1     |2      |2        |1      |Não      |Sem descrição|100000000|2023-06-03|\n",
      "|https://loft.com.br/imovel/apartamento-rua-do-estilo-barroco-santo-amaro-sao-paulo-4-quartos-284m2/oofj5l           |Condomínio Edificio Montmartre - Rua do Estilo Barroco - Santo Amaro - São Paulo - SP     |Santo Amaro   |2200000 |null              |284       |7746       |4      |2     |4      |5        |0      |Não      |Sem descrição|191      |2023-06-03|\n",
      "|https://loft.com.br/imovel/apartamento-praca-julio-prestes-campos-elisios-sao-paulo-2-quartos-86m2/lxlwa            |Condomínio Edificio Miri - Praça Júlio Prestes - Campos Elísios - São Paulo - SP          |Campos Elísios|360000  |4º andar em diante|86        |4186       |2      |0     |0      |2        |0      |Não      |24h          |716      |2023-06-03|\n",
      "|https://loft.com.br/imovel/apartamento-rua-bento-freitas-republica-sao-paulo-1-quarto-36m2/1wcyj4j                  |Condomínio Vibe Republica - Rua Bento Freitas - República - São Paulo - SP                |República     |450000  |null              |36        |12500      |1      |0     |0      |1        |0      |Não      |Sem descrição|223      |2023-06-03|\n",
      "|https://loft.com.br/imovel/apartamento-rua-oscar-freire-pinheiros-sao-paulo-1-quarto-18m2/bhazdt                    |Condomínio VN Oscar Freire - Rua Oscar Freire - Pinheiros - São Paulo - SP                |Pinheiros     |530000  |4º andar em diante|18        |29444      |1      |0     |1      |1        |0      |Não      |Sem descrição|74       |2023-06-03|\n",
      "|https://loft.com.br/imovel/apartamento-rua-marcos-fernandes-cursino-sao-paulo-4-quartos-300m2/ecl6za                |Condomínio Edificio La Residence - Rua Marcos Fernandes - Cursino - São Paulo - SP        |Cursino       |2300000 |3º andar          |300       |7666       |4      |4     |4      |6        |1      |Não      |24h          |100000000|2023-06-03|\n",
      "|https://loft.com.br/imovel/apartamento-avenida-raimundo-pereira-de-magalhaes-jaragua-sao-paulo-2-quartos-42m2/jvbnls|Condomínio Vila Austria - Avenida Raimundo Pereira de Magalhães - Jaraguá - São Paulo - SP|Jaraguá       |230000  |3º andar          |42        |5476       |2      |0     |0      |1        |0      |Não      |24h          |100000000|2023-06-03|\n",
      "|https://loft.com.br/imovel/apartamento-rua-tucuna-perdizes-sao-paulo-3-quartos-147m2/ss84g0                         |Condomínio Edificio Solar Dos Buzios - Rua Tucuna - Perdizes - São Paulo - SP             |Perdizes      |1190000 |4º andar em diante|147       |8095       |3      |1     |2      |4        |2      |Não      |Sem descrição|100000000|2023-06-03|\n",
      "+--------------------------------------------------------------------------------------------------------------------+------------------------------------------------------------------------------------------+--------------+--------+------------------+----------+-----------+-------+------+-------+---------+-------+---------+-------------+---------+----------+\n",
      "only showing top 10 rows\n",
      "\n"
     ]
    }
   ],
   "source": [
    "path = 's3a://context/data'\n",
    "\n",
    "df_context = spark.read.format('parquet').load(path)\n",
    "\n",
    "df_context.show(10, False)"
   ]
  },
  {
   "cell_type": "markdown",
   "id": "e6e599ce-01d2-4ecd-a4e3-fe97ca2eb6a3",
   "metadata": {
    "tags": []
   },
   "source": [
    "### Tratamento "
   ]
  },
  {
   "cell_type": "code",
   "execution_count": 4,
   "id": "886e7ea6-5706-4d4e-a323-00f444c64c5f",
   "metadata": {},
   "outputs": [
    {
     "name": "stdout",
     "output_type": "stream",
     "text": [
      "+---+----------+---------------------------------------------------------------------------------------------------------------+---------------------------------------------------------------------------------------------------+-----------------+--------+------------------+----------+-----------+-------+------+-------+---------+-------+---------+-------------+---------+\n",
      "|id |Refdate   |Link_Apto                                                                                                      |Endereco                                                                                           |Bairro           |Valor_RS|Andares           |Tamanho_m2|Valor_RS/m2|Quartos|Suites|Garagem|Banheiros|Varanda|Mobiliado|Portaria     |Metro    |\n",
      "+---+----------+---------------------------------------------------------------------------------------------------------------+---------------------------------------------------------------------------------------------------+-----------------+--------+------------------+----------+-----------+-------+------+-------+---------+-------+---------+-------------+---------+\n",
      "|0  |2023-06-17|https://loft.com.br/imovel/apartamento-alameda-afonso-schmidt-santana-sao-paulo-4-quartos-285m2/z1y4nu         |Condomínio Sophis Santana - Alameda Afonso Schmidt - Santana - São Paulo - SP                      |Santana          |3300000 |4º andar em diante|285       |11578      |4      |4     |5      |6        |0      |Não      |Parcial      |100000000|\n",
      "|1  |2023-06-17|https://loft.com.br/imovel/apartamento-alameda-barao-de-limeira-campos-elisios-sao-paulo-2-quartos-112m2/y9e5i5|Condomínio DI BELLA - Alameda Barão de Limeira - Campos Elísios - São Paulo - SP                   |Campos Elísios   |585000  |3º andar          |112       |5223       |2      |0     |1      |2        |0      |Não      |Sem descrição|461      |\n",
      "|2  |2023-06-17|https://loft.com.br/imovel/apartamento-alameda-barao-de-limeira-campos-elisios-sao-paulo-2-quartos-144m2/x5bcbh|Condomínio Edificio Julio Chiocca - Alameda Barão de Limeira - Campos Elísios - São Paulo - SP     |Campos Elísios   |678000  |4º andar em diante|144       |4708       |2      |0     |0      |2        |0      |Não      |Sem descrição|590      |\n",
      "|3  |2023-06-17|https://loft.com.br/imovel/apartamento-alameda-barao-de-limeira-santa-cecilia-sao-paulo-4-quartos-150m2/waaryp |Condomínio Edificio Chacara Do Carvalho - Alameda Barão de Limeira - Santa Cecília - São Paulo - SP|Santa Cecília    |820000  |4º andar em diante|150       |5466       |4      |2     |1      |2        |1      |Não      |24h          |666      |\n",
      "|4  |2023-06-17|https://loft.com.br/imovel/apartamento-alameda-barros-santa-cecilia-sao-paulo-3-quartos-165m2/1r8mvtt          |Condomínio Edificio Meridien - Alameda Barros - Santa Cecília - São Paulo - SP                     |Santa Cecília    |2320000 |4º andar em diante|165       |14060      |3      |3     |6      |4        |0      |Não      |Sem descrição|365      |\n",
      "|5  |2023-06-17|https://loft.com.br/imovel/apartamento-alameda-campinas-bela-vista-sao-paulo-1-quarto-30m2/wwt5hg              |Condomínio Edificio Paulista Flat - Alameda Campinas - Bela Vista - São Paulo - SP                 |Bela Vista       |315000  |4º andar em diante|30        |10500      |1      |1     |1      |1        |0      |Não      |Sem descrição|392      |\n",
      "|6  |2023-06-17|https://loft.com.br/imovel/apartamento-alameda-campinas-jardim-paulista-sao-paulo-1-quarto-31m2/224x5c         |Condomínio Edificio Hampton Park Residence - Alameda Campinas - Jardim Paulista - São Paulo - SP   |Jardim Paulista  |320000  |4º andar em diante|31        |10322      |1      |1     |1      |1        |0      |Não      |Sem descrição|916      |\n",
      "|7  |2023-06-17|https://loft.com.br/imovel/apartamento-alameda-casa-branca-jardim-america-sao-paulo-3-quartos-119m2/x2770n     |Condomínio Edificio Dinamarca - Alameda Casa Branca - Jardim América - São Paulo - SP              |Jardim América   |1500000 |4º andar em diante|119       |12605      |3      |1     |2      |3        |0      |Não      |Sem descrição|485      |\n",
      "|8  |2023-06-17|https://loft.com.br/imovel/apartamento-alameda-casa-branca-jardim-paulistano-sao-paulo-3-quartos-156m2/16nq06p |Condomínio Edificio Cheiva - Alameda Casa Branca - Jardim Paulistano - São Paulo - SP              |Jardim Paulistano|1980000 |4º andar em diante|156       |12692      |3      |0     |1      |3        |0      |Não      |Sem descrição|100000000|\n",
      "|9  |2023-06-17|https://loft.com.br/imovel/apartamento-alameda-dos-aicas-moema-indios-sao-paulo-1-quarto-90m2/oyep9d           |Condomínio Edificio San Bernardino Residence - Alameda dos Aicás - Moema Índios - São Paulo - SP   |MoemaÍndios      |1600000 |4º andar em diante|90        |17777      |1      |1     |2      |2        |1      |Não      |24h          |828      |\n",
      "+---+----------+---------------------------------------------------------------------------------------------------------------+---------------------------------------------------------------------------------------------------+-----------------+--------+------------------+----------+-----------+-------+------+-------+---------+-------+---------+-------------+---------+\n",
      "only showing top 10 rows\n",
      "\n"
     ]
    }
   ],
   "source": [
    "df_trust = (df_context\n",
    "            .orderBy(\"Refdate\", ascending=False)\n",
    "            .dropDuplicates([\"Link_Apto\", \"Endereco\", \"Valor_RS\"])\n",
    "            .na.drop()\n",
    "            .orderBy(\"Refdate\", ascending=False)\n",
    "            .withColumn(\"id\", fn.monotonically_increasing_id())\n",
    "           )\n",
    "\n",
    "df_trust = (df_trust\n",
    "            .select(\"id\", \"Refdate\", \"Link_Apto\", \"Endereco\", \"Bairro\", \"Valor_RS\", \n",
    "                    \"Andares\", \"Tamanho_m2\", \"Valor_RS/m2\", \"Quartos\", \"Suites\", \n",
    "                    \"Garagem\", \"Banheiros\", \"Varanda\", \"Mobiliado\", \"Portaria\", \n",
    "                    \"Metro\")\n",
    "           )\n",
    "\n",
    "df_trust.show(10, False)"
   ]
  },
  {
   "cell_type": "markdown",
   "id": "0b1762b9-c9a8-4830-8241-11038264e299",
   "metadata": {
    "tags": []
   },
   "source": [
    "### Salvando Camada Trust"
   ]
  },
  {
   "cell_type": "code",
   "execution_count": 5,
   "id": "7ccbb8aa-207b-4d12-babe-184a62f36e90",
   "metadata": {},
   "outputs": [],
   "source": [
    "(df_trust\n",
    " .write\n",
    " .format('parquet')\n",
    " .mode('overwrite')\n",
    " .partitionBy('Refdate')\n",
    " .save('s3a://trust/particionado')\n",
    ")"
   ]
  },
  {
   "cell_type": "code",
   "execution_count": 41,
   "id": "dc264e0e-5e6f-4a7c-8a13-7748bc12bb7c",
   "metadata": {},
   "outputs": [],
   "source": [
    "(df_trust\n",
    " .write\n",
    " .format('parquet')\n",
    " .mode('overwrite')\n",
    " .save('s3a://trust/unificado')\n",
    ")"
   ]
  },
  {
   "cell_type": "markdown",
   "id": "4717ecec-1469-42ec-ad52-02b85967e567",
   "metadata": {
    "tags": []
   },
   "source": [
    "### Lendo Camada Trust"
   ]
  },
  {
   "cell_type": "code",
   "execution_count": 6,
   "id": "6e87a274-6392-4f6c-a99e-f1aeba17b4a7",
   "metadata": {},
   "outputs": [
    {
     "name": "stdout",
     "output_type": "stream",
     "text": [
      "+---+---------------------------------------------------------------------------------------------------------------+---------------------------------------------------------------------------------------------------+-----------------+--------+------------------+----------+-----------+-------+------+-------+---------+-------+---------+-------------+---------+----------+\n",
      "|id |Link_Apto                                                                                                      |Endereco                                                                                           |Bairro           |Valor_RS|Andares           |Tamanho_m2|Valor_RS/m2|Quartos|Suites|Garagem|Banheiros|Varanda|Mobiliado|Portaria     |Metro    |Refdate   |\n",
      "+---+---------------------------------------------------------------------------------------------------------------+---------------------------------------------------------------------------------------------------+-----------------+--------+------------------+----------+-----------+-------+------+-------+---------+-------+---------+-------------+---------+----------+\n",
      "|0  |https://loft.com.br/imovel/apartamento-alameda-afonso-schmidt-santana-sao-paulo-4-quartos-285m2/z1y4nu         |Condomínio Sophis Santana - Alameda Afonso Schmidt - Santana - São Paulo - SP                      |Santana          |3300000 |4º andar em diante|285       |11578      |4      |4     |5      |6        |0      |Não      |Parcial      |100000000|2023-06-17|\n",
      "|1  |https://loft.com.br/imovel/apartamento-alameda-barao-de-limeira-campos-elisios-sao-paulo-2-quartos-112m2/y9e5i5|Condomínio DI BELLA - Alameda Barão de Limeira - Campos Elísios - São Paulo - SP                   |Campos Elísios   |585000  |3º andar          |112       |5223       |2      |0     |1      |2        |0      |Não      |Sem descrição|461      |2023-06-17|\n",
      "|2  |https://loft.com.br/imovel/apartamento-alameda-barao-de-limeira-campos-elisios-sao-paulo-2-quartos-144m2/x5bcbh|Condomínio Edificio Julio Chiocca - Alameda Barão de Limeira - Campos Elísios - São Paulo - SP     |Campos Elísios   |678000  |4º andar em diante|144       |4708       |2      |0     |0      |2        |0      |Não      |Sem descrição|590      |2023-06-17|\n",
      "|3  |https://loft.com.br/imovel/apartamento-alameda-barao-de-limeira-santa-cecilia-sao-paulo-4-quartos-150m2/waaryp |Condomínio Edificio Chacara Do Carvalho - Alameda Barão de Limeira - Santa Cecília - São Paulo - SP|Santa Cecília    |820000  |4º andar em diante|150       |5466       |4      |2     |1      |2        |1      |Não      |24h          |666      |2023-06-17|\n",
      "|4  |https://loft.com.br/imovel/apartamento-alameda-barros-santa-cecilia-sao-paulo-3-quartos-165m2/1r8mvtt          |Condomínio Edificio Meridien - Alameda Barros - Santa Cecília - São Paulo - SP                     |Santa Cecília    |2320000 |4º andar em diante|165       |14060      |3      |3     |6      |4        |0      |Não      |Sem descrição|365      |2023-06-17|\n",
      "|5  |https://loft.com.br/imovel/apartamento-alameda-campinas-bela-vista-sao-paulo-1-quarto-30m2/wwt5hg              |Condomínio Edificio Paulista Flat - Alameda Campinas - Bela Vista - São Paulo - SP                 |Bela Vista       |315000  |4º andar em diante|30        |10500      |1      |1     |1      |1        |0      |Não      |Sem descrição|392      |2023-06-17|\n",
      "|6  |https://loft.com.br/imovel/apartamento-alameda-campinas-jardim-paulista-sao-paulo-1-quarto-31m2/224x5c         |Condomínio Edificio Hampton Park Residence - Alameda Campinas - Jardim Paulista - São Paulo - SP   |Jardim Paulista  |320000  |4º andar em diante|31        |10322      |1      |1     |1      |1        |0      |Não      |Sem descrição|916      |2023-06-17|\n",
      "|7  |https://loft.com.br/imovel/apartamento-alameda-casa-branca-jardim-america-sao-paulo-3-quartos-119m2/x2770n     |Condomínio Edificio Dinamarca - Alameda Casa Branca - Jardim América - São Paulo - SP              |Jardim América   |1500000 |4º andar em diante|119       |12605      |3      |1     |2      |3        |0      |Não      |Sem descrição|485      |2023-06-17|\n",
      "|8  |https://loft.com.br/imovel/apartamento-alameda-casa-branca-jardim-paulistano-sao-paulo-3-quartos-156m2/16nq06p |Condomínio Edificio Cheiva - Alameda Casa Branca - Jardim Paulistano - São Paulo - SP              |Jardim Paulistano|1980000 |4º andar em diante|156       |12692      |3      |0     |1      |3        |0      |Não      |Sem descrição|100000000|2023-06-17|\n",
      "|9  |https://loft.com.br/imovel/apartamento-alameda-dos-aicas-moema-indios-sao-paulo-1-quarto-90m2/oyep9d           |Condomínio Edificio San Bernardino Residence - Alameda dos Aicás - Moema Índios - São Paulo - SP   |MoemaÍndios      |1600000 |4º andar em diante|90        |17777      |1      |1     |2      |2        |1      |Não      |24h          |828      |2023-06-17|\n",
      "+---+---------------------------------------------------------------------------------------------------------------+---------------------------------------------------------------------------------------------------+-----------------+--------+------------------+----------+-----------+-------+------+-------+---------+-------+---------+-------------+---------+----------+\n",
      "only showing top 10 rows\n",
      "\n"
     ]
    }
   ],
   "source": [
    "path = 's3a://trust/particionado'\n",
    "\n",
    "df_trust = spark.read.format('parquet').load(path)\n",
    "\n",
    "df_trust.show(10, False)"
   ]
  },
  {
   "cell_type": "markdown",
   "id": "32d8d252-7bbe-42fa-9370-307f766ce6c2",
   "metadata": {
    "tags": []
   },
   "source": [
    "# Fazendo algumas análises"
   ]
  },
  {
   "cell_type": "code",
   "execution_count": 2,
   "id": "be157515-8235-4df9-aa3b-880eeae447dc",
   "metadata": {},
   "outputs": [
    {
     "name": "stdout",
     "output_type": "stream",
     "text": [
      "+---+---------------------------------------------------------------------------------------------------------------+---------------------------------------------------------------------------------------------------+-----------------+--------+------------------+----------+-----------+-------+------+-------+---------+-------+---------+-------------+---------+----------+\n",
      "|id |Link_Apto                                                                                                      |Endereco                                                                                           |Bairro           |Valor_RS|Andares           |Tamanho_m2|Valor_RS/m2|Quartos|Suites|Garagem|Banheiros|Varanda|Mobiliado|Portaria     |Metro    |Refdate   |\n",
      "+---+---------------------------------------------------------------------------------------------------------------+---------------------------------------------------------------------------------------------------+-----------------+--------+------------------+----------+-----------+-------+------+-------+---------+-------+---------+-------------+---------+----------+\n",
      "|0  |https://loft.com.br/imovel/apartamento-alameda-afonso-schmidt-santana-sao-paulo-4-quartos-285m2/z1y4nu         |Condomínio Sophis Santana - Alameda Afonso Schmidt - Santana - São Paulo - SP                      |Santana          |3300000 |4º andar em diante|285       |11578      |4      |4     |5      |6        |0      |Não      |Parcial      |100000000|2023-06-17|\n",
      "|1  |https://loft.com.br/imovel/apartamento-alameda-barao-de-limeira-campos-elisios-sao-paulo-2-quartos-112m2/y9e5i5|Condomínio DI BELLA - Alameda Barão de Limeira - Campos Elísios - São Paulo - SP                   |Campos Elísios   |585000  |3º andar          |112       |5223       |2      |0     |1      |2        |0      |Não      |Sem descrição|461      |2023-06-17|\n",
      "|2  |https://loft.com.br/imovel/apartamento-alameda-barao-de-limeira-campos-elisios-sao-paulo-2-quartos-144m2/x5bcbh|Condomínio Edificio Julio Chiocca - Alameda Barão de Limeira - Campos Elísios - São Paulo - SP     |Campos Elísios   |678000  |4º andar em diante|144       |4708       |2      |0     |0      |2        |0      |Não      |Sem descrição|590      |2023-06-17|\n",
      "|3  |https://loft.com.br/imovel/apartamento-alameda-barao-de-limeira-santa-cecilia-sao-paulo-4-quartos-150m2/waaryp |Condomínio Edificio Chacara Do Carvalho - Alameda Barão de Limeira - Santa Cecília - São Paulo - SP|Santa Cecília    |820000  |4º andar em diante|150       |5466       |4      |2     |1      |2        |1      |Não      |24h          |666      |2023-06-17|\n",
      "|4  |https://loft.com.br/imovel/apartamento-alameda-barros-santa-cecilia-sao-paulo-3-quartos-165m2/1r8mvtt          |Condomínio Edificio Meridien - Alameda Barros - Santa Cecília - São Paulo - SP                     |Santa Cecília    |2320000 |4º andar em diante|165       |14060      |3      |3     |6      |4        |0      |Não      |Sem descrição|365      |2023-06-17|\n",
      "|5  |https://loft.com.br/imovel/apartamento-alameda-campinas-bela-vista-sao-paulo-1-quarto-30m2/wwt5hg              |Condomínio Edificio Paulista Flat - Alameda Campinas - Bela Vista - São Paulo - SP                 |Bela Vista       |315000  |4º andar em diante|30        |10500      |1      |1     |1      |1        |0      |Não      |Sem descrição|392      |2023-06-17|\n",
      "|6  |https://loft.com.br/imovel/apartamento-alameda-campinas-jardim-paulista-sao-paulo-1-quarto-31m2/224x5c         |Condomínio Edificio Hampton Park Residence - Alameda Campinas - Jardim Paulista - São Paulo - SP   |Jardim Paulista  |320000  |4º andar em diante|31        |10322      |1      |1     |1      |1        |0      |Não      |Sem descrição|916      |2023-06-17|\n",
      "|7  |https://loft.com.br/imovel/apartamento-alameda-casa-branca-jardim-america-sao-paulo-3-quartos-119m2/x2770n     |Condomínio Edificio Dinamarca - Alameda Casa Branca - Jardim América - São Paulo - SP              |Jardim América   |1500000 |4º andar em diante|119       |12605      |3      |1     |2      |3        |0      |Não      |Sem descrição|485      |2023-06-17|\n",
      "|8  |https://loft.com.br/imovel/apartamento-alameda-casa-branca-jardim-paulistano-sao-paulo-3-quartos-156m2/16nq06p |Condomínio Edificio Cheiva - Alameda Casa Branca - Jardim Paulistano - São Paulo - SP              |Jardim Paulistano|1980000 |4º andar em diante|156       |12692      |3      |0     |1      |3        |0      |Não      |Sem descrição|100000000|2023-06-17|\n",
      "|9  |https://loft.com.br/imovel/apartamento-alameda-dos-aicas-moema-indios-sao-paulo-1-quarto-90m2/oyep9d           |Condomínio Edificio San Bernardino Residence - Alameda dos Aicás - Moema Índios - São Paulo - SP   |MoemaÍndios      |1600000 |4º andar em diante|90        |17777      |1      |1     |2      |2        |1      |Não      |24h          |828      |2023-06-17|\n",
      "+---+---------------------------------------------------------------------------------------------------------------+---------------------------------------------------------------------------------------------------+-----------------+--------+------------------+----------+-----------+-------+------+-------+---------+-------+---------+-------------+---------+----------+\n",
      "only showing top 10 rows\n",
      "\n"
     ]
    }
   ],
   "source": [
    "path = 's3a://trust/particionado'\n",
    "\n",
    "df_trust = spark.read.format('parquet').load(path)\n",
    "\n",
    "df_trust.show(10, False)"
   ]
  },
  {
   "cell_type": "code",
   "execution_count": 3,
   "id": "4dab2500-e8db-43b0-afd7-b9303b9831cc",
   "metadata": {},
   "outputs": [
    {
     "name": "stdout",
     "output_type": "stream",
     "text": [
      "root\n",
      " |-- id: long (nullable = true)\n",
      " |-- Link_Apto: string (nullable = true)\n",
      " |-- Endereco: string (nullable = true)\n",
      " |-- Bairro: string (nullable = true)\n",
      " |-- Valor_RS: integer (nullable = true)\n",
      " |-- Andares: string (nullable = true)\n",
      " |-- Tamanho_m2: integer (nullable = true)\n",
      " |-- Valor_RS/m2: integer (nullable = true)\n",
      " |-- Quartos: integer (nullable = true)\n",
      " |-- Suites: integer (nullable = true)\n",
      " |-- Garagem: integer (nullable = true)\n",
      " |-- Banheiros: integer (nullable = true)\n",
      " |-- Varanda: integer (nullable = true)\n",
      " |-- Mobiliado: string (nullable = true)\n",
      " |-- Portaria: string (nullable = true)\n",
      " |-- Metro: integer (nullable = true)\n",
      " |-- Refdate: date (nullable = true)\n",
      "\n"
     ]
    }
   ],
   "source": [
    "df_trust.printSchema()"
   ]
  },
  {
   "cell_type": "code",
   "execution_count": 9,
   "id": "b056cb6a-191d-4e05-9941-46fefe70cf34",
   "metadata": {},
   "outputs": [
    {
     "name": "stdout",
     "output_type": "stream",
     "text": [
      "+---+---------+--------+------+--------+-------+----------+-----------+-------+------+-------+---------+-------+---------+--------+-----+-------+\n",
      "|id |Link_Apto|Endereco|Bairro|Valor_RS|Andares|Tamanho_m2|Valor_RS/m2|Quartos|Suites|Garagem|Banheiros|Varanda|Mobiliado|Portaria|Metro|Refdate|\n",
      "+---+---------+--------+------+--------+-------+----------+-----------+-------+------+-------+---------+-------+---------+--------+-----+-------+\n",
      "+---+---------+--------+------+--------+-------+----------+-----------+-------+------+-------+---------+-------+---------+--------+-----+-------+\n",
      "\n"
     ]
    }
   ],
   "source": [
    "df_trust.filter(fn.col(\"Endereco\").like(\"%à venda%\")).show(10, False)"
   ]
  },
  {
   "cell_type": "code",
   "execution_count": 10,
   "id": "b51bc9ac-407b-4684-8331-5fa2f61d81bb",
   "metadata": {},
   "outputs": [
    {
     "name": "stdout",
     "output_type": "stream",
     "text": [
      "+-------------------+------------------+\n",
      "|Bairro             |Media_Valor_Bairro|\n",
      "+-------------------+------------------+\n",
      "|Jardim Europa      |5685555.56        |\n",
      "|Vila Nova Conceição|5014809.52        |\n",
      "|Altode Pinheiros   |3758200.0         |\n",
      "|Sumaré             |2738583.24        |\n",
      "|Jardim Paulistano  |2541073.28        |\n",
      "|Higienópolis       |2423269.19        |\n",
      "|Jardim América     |2392785.68        |\n",
      "|Itaim Bibi         |2062979.21        |\n",
      "|Moema Pássaros     |1954678.92        |\n",
      "|Paraíso            |1935208.29        |\n",
      "+-------------------+------------------+\n",
      "only showing top 10 rows\n",
      "\n"
     ]
    }
   ],
   "source": [
    "(df_trust\n",
    " .groupBy('Bairro')\n",
    " .mean('Valor_RS')\n",
    " .select('Bairro', fn.round('avg(Valor_RS)', 2).alias('Media_Valor_Bairro'))\n",
    " .orderBy('Media_Valor_Bairro', ascending=False)\n",
    ").show(10, False)\n",
    "\n",
    "# (df_context\n",
    "#  .groupBy('Bairro')\n",
    "#  .mean('Valor_RS')\n",
    "#  .select('Bairro', fn.col('avg(Valor_RS)').alias('Valor_RS'))\n",
    "#  .orderBy('Valor_RS', ascending=True)\n",
    "#  .count()\n",
    "# )#.show(1000, False)"
   ]
  },
  {
   "cell_type": "code",
   "execution_count": 11,
   "id": "002753f9-dc88-405a-af8d-9e7ad1dfe062",
   "metadata": {},
   "outputs": [
    {
     "name": "stdout",
     "output_type": "stream",
     "text": [
      "+-------------------+----------------+\n",
      "|Bairro             |Max_Valor_Bairro|\n",
      "+-------------------+----------------+\n",
      "|Vila Matilde       |50000000        |\n",
      "|Vila Nova Conceição|31990000        |\n",
      "|Jardim Europa      |23000000        |\n",
      "|Jardim América     |19150000        |\n",
      "|Altode Pinheiros   |18937000        |\n",
      "|Vila Andrade       |18500000        |\n",
      "|Jardim Paulistano  |17800000        |\n",
      "|Sumaré             |15000000        |\n",
      "|Itaim Bibi         |14500000        |\n",
      "|Vila Olímpia       |14000000        |\n",
      "+-------------------+----------------+\n",
      "only showing top 10 rows\n",
      "\n"
     ]
    }
   ],
   "source": [
    "(df_trust\n",
    " .groupBy('Bairro')\n",
    " .max('Valor_RS')\n",
    " .select('Bairro', fn.col('max(Valor_RS)').alias('Max_Valor_Bairro'))\n",
    " .orderBy('Max_Valor_Bairro', ascending=False)\n",
    ").show(10, False)"
   ]
  },
  {
   "cell_type": "code",
   "execution_count": 25,
   "id": "4368a69d-6e2d-435f-b4bf-ec9e111c8840",
   "metadata": {},
   "outputs": [
    {
     "name": "stdout",
     "output_type": "stream",
     "text": [
      "+---+---------------------------------------------------------------------------------------------------------------+---------------------------------------------------------------------------------------------------+-----------------+--------+------------------+----------+-----------+-------+------+-------+---------+-------+---------+-------------+---------+----------+\n",
      "|id |Link_Apto                                                                                                      |Endereco                                                                                           |Bairro           |Valor_RS|Andares           |Tamanho_m2|Valor_RS/m2|Quartos|Suites|Garagem|Banheiros|Varanda|Mobiliado|Portaria     |Metro    |Refdate   |\n",
      "+---+---------------------------------------------------------------------------------------------------------------+---------------------------------------------------------------------------------------------------+-----------------+--------+------------------+----------+-----------+-------+------+-------+---------+-------+---------+-------------+---------+----------+\n",
      "|0  |https://loft.com.br/imovel/apartamento-alameda-afonso-schmidt-santana-sao-paulo-4-quartos-285m2/z1y4nu         |Condomínio Sophis Santana - Alameda Afonso Schmidt - Santana - São Paulo - SP                      |Santana          |3300000 |4º andar em diante|285       |11578      |4      |4     |5      |6        |0      |Não      |Parcial      |100000000|2023-06-17|\n",
      "|1  |https://loft.com.br/imovel/apartamento-alameda-barao-de-limeira-campos-elisios-sao-paulo-2-quartos-112m2/y9e5i5|Condomínio DI BELLA - Alameda Barão de Limeira - Campos Elísios - São Paulo - SP                   |Campos Elísios   |585000  |3º andar          |112       |5223       |2      |0     |1      |2        |0      |Não      |Sem descrição|461      |2023-06-17|\n",
      "|2  |https://loft.com.br/imovel/apartamento-alameda-barao-de-limeira-campos-elisios-sao-paulo-2-quartos-144m2/x5bcbh|Condomínio Edificio Julio Chiocca - Alameda Barão de Limeira - Campos Elísios - São Paulo - SP     |Campos Elísios   |678000  |4º andar em diante|144       |4708       |2      |0     |0      |2        |0      |Não      |Sem descrição|590      |2023-06-17|\n",
      "|3  |https://loft.com.br/imovel/apartamento-alameda-barao-de-limeira-santa-cecilia-sao-paulo-4-quartos-150m2/waaryp |Condomínio Edificio Chacara Do Carvalho - Alameda Barão de Limeira - Santa Cecília - São Paulo - SP|Santa Cecília    |820000  |4º andar em diante|150       |5466       |4      |2     |1      |2        |1      |Não      |24h          |666      |2023-06-17|\n",
      "|4  |https://loft.com.br/imovel/apartamento-alameda-barros-santa-cecilia-sao-paulo-3-quartos-165m2/1r8mvtt          |Condomínio Edificio Meridien - Alameda Barros - Santa Cecília - São Paulo - SP                     |Santa Cecília    |2320000 |4º andar em diante|165       |14060      |3      |3     |6      |4        |0      |Não      |Sem descrição|365      |2023-06-17|\n",
      "|5  |https://loft.com.br/imovel/apartamento-alameda-campinas-bela-vista-sao-paulo-1-quarto-30m2/wwt5hg              |Condomínio Edificio Paulista Flat - Alameda Campinas - Bela Vista - São Paulo - SP                 |Bela Vista       |315000  |4º andar em diante|30        |10500      |1      |1     |1      |1        |0      |Não      |Sem descrição|392      |2023-06-17|\n",
      "|6  |https://loft.com.br/imovel/apartamento-alameda-campinas-jardim-paulista-sao-paulo-1-quarto-31m2/224x5c         |Condomínio Edificio Hampton Park Residence - Alameda Campinas - Jardim Paulista - São Paulo - SP   |Jardim Paulista  |320000  |4º andar em diante|31        |10322      |1      |1     |1      |1        |0      |Não      |Sem descrição|916      |2023-06-17|\n",
      "|7  |https://loft.com.br/imovel/apartamento-alameda-casa-branca-jardim-america-sao-paulo-3-quartos-119m2/x2770n     |Condomínio Edificio Dinamarca - Alameda Casa Branca - Jardim América - São Paulo - SP              |Jardim América   |1500000 |4º andar em diante|119       |12605      |3      |1     |2      |3        |0      |Não      |Sem descrição|485      |2023-06-17|\n",
      "|8  |https://loft.com.br/imovel/apartamento-alameda-casa-branca-jardim-paulistano-sao-paulo-3-quartos-156m2/16nq06p |Condomínio Edificio Cheiva - Alameda Casa Branca - Jardim Paulistano - São Paulo - SP              |Jardim Paulistano|1980000 |4º andar em diante|156       |12692      |3      |0     |1      |3        |0      |Não      |Sem descrição|100000000|2023-06-17|\n",
      "|9  |https://loft.com.br/imovel/apartamento-alameda-dos-aicas-moema-indios-sao-paulo-1-quarto-90m2/oyep9d           |Condomínio Edificio San Bernardino Residence - Alameda dos Aicás - Moema Índios - São Paulo - SP   |MoemaÍndios      |1600000 |4º andar em diante|90        |17777      |1      |1     |2      |2        |1      |Não      |24h          |828      |2023-06-17|\n",
      "+---+---------------------------------------------------------------------------------------------------------------+---------------------------------------------------------------------------------------------------+-----------------+--------+------------------+----------+-----------+-------+------+-------+---------+-------+---------+-------------+---------+----------+\n",
      "only showing top 10 rows\n",
      "\n"
     ]
    }
   ],
   "source": [
    "df_trust.show(10, False)"
   ]
  },
  {
   "cell_type": "code",
   "execution_count": null,
   "id": "eaf092ac-db45-4b48-803c-dc7791070b7b",
   "metadata": {},
   "outputs": [],
   "source": [
    "df.createOrReplaceTempView(\"imoveis\")\n",
    "\n",
    "spark.sql('''SELECT \n",
    "             distinct(Bairro), \n",
    "             round(avg(Valor_RS) over (partition by Bairro), 2) as avg_bairro\n",
    "             FROM imoveis''').show(10, False)"
   ]
  },
  {
   "cell_type": "code",
   "execution_count": 45,
   "id": "8f2c80c3-6004-47f2-ae9d-d9010001236f",
   "metadata": {},
   "outputs": [
    {
     "name": "stdout",
     "output_type": "stream",
     "text": [
      "+---------+--------+----------+-----------+\n",
      "|Bairro   |Valor_RS|avg_bairro|Caro_Barato|\n",
      "+---------+--------+----------+-----------+\n",
      "|Aclimação|432000  |1307484.76|Barato     |\n",
      "|Aclimação|405000  |1307484.76|Barato     |\n",
      "|Aclimação|740000  |1307484.76|Barato     |\n",
      "|Aclimação|1400000 |1307484.76|Caro       |\n",
      "|Aclimação|1280000 |1307484.76|Barato     |\n",
      "|Aclimação|621000  |1307484.76|Barato     |\n",
      "|Aclimação|1472000 |1307484.76|Caro       |\n",
      "|Aclimação|380000  |1307484.76|Barato     |\n",
      "|Aclimação|330000  |1307484.76|Barato     |\n",
      "|Aclimação|460000  |1307484.76|Barato     |\n",
      "+---------+--------+----------+-----------+\n",
      "only showing top 10 rows\n",
      "\n"
     ]
    }
   ],
   "source": [
    "spark.sql('''SELECT \n",
    "             distinct(Bairro), \n",
    "             Valor_RS, \n",
    "             round(avg(Valor_RS) over (partition by Bairro), 2) as avg_bairro,\n",
    "             CASE\n",
    "                 WHEN (Valor_RS - (round(avg(Valor_RS) over (partition by Bairro), 2))) > 0 THEN 'Caro'\n",
    "                 ELSE 'Barato'\n",
    "             END AS Caro_Barato\n",
    "             FROM imoveis''').show(10, False)"
   ]
  }
 ],
 "metadata": {
  "kernelspec": {
   "display_name": "Python 3 (ipykernel)",
   "language": "python",
   "name": "python3"
  },
  "language_info": {
   "codemirror_mode": {
    "name": "ipython",
    "version": 3
   },
   "file_extension": ".py",
   "mimetype": "text/x-python",
   "name": "python",
   "nbconvert_exporter": "python",
   "pygments_lexer": "ipython3",
   "version": "3.10.5"
  }
 },
 "nbformat": 4,
 "nbformat_minor": 5
}
