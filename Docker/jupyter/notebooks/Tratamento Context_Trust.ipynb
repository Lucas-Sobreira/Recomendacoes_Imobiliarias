{
 "cells": [
  {
   "cell_type": "markdown",
   "id": "59d3657f-4979-48d2-a52f-bba66a86f0d0",
   "metadata": {},
   "source": [
    "## Configuração"
   ]
  },
  {
   "cell_type": "code",
   "execution_count": 1,
   "id": "04b3a92c-8876-4f5c-9b33-13fd82376f78",
   "metadata": {},
   "outputs": [
    {
     "data": {
      "text/html": [
       "<style>pre { white-space: pre !important; }</style>"
      ],
      "text/plain": [
       "<IPython.core.display.HTML object>"
      ]
     },
     "metadata": {},
     "output_type": "display_data"
    }
   ],
   "source": [
    "from pyspark.sql.types import *\n",
    "import pyspark.sql.functions as fn\n",
    "from pyspark.sql import SparkSession\n",
    "from IPython.core.display import HTML\n",
    "display(HTML(\"<style>pre { white-space: pre !important; }</style>\"))\n",
    "\n",
    "spark = (SparkSession.builder\n",
    "         .config(\"spark.jars\",\"\"\"/home/jovyan/jars/aws-java-sdk-core-1.11.534.jar,\n",
    "                                 /home/jovyan/jars/aws-java-sdk-dynamodb-1.11.534.jar,\n",
    "                                 /home/jovyan/jars/aws-java-sdk-s3-1.11.534.jar,\n",
    "                                 /home/jovyan/jars/hadoop-aws-3.2.2.jar\"\"\")\n",
    "         .config(\"spark.hadoop.fs.s3a.endpoint\", \"http://minio:9000\")\n",
    "         .config(\"spark.hadoop.fs.s3a.access.key\", \"aulafia\")\n",
    "         .config(\"spark.hadoop.fs.s3a.secret.key\", \"aulafia@123\")\n",
    "         .config(\"spark.hadoop.fs.s3a.path.style.access\", True)\n",
    "         .config(\"spark.hadoop.fs.s3a.impl\", \"org.apache.hadoop.fs.s3a.S3AFileSystem\")\n",
    "         .config(\"spark.hadoop.fs.s3a.aws.credentials.provider\", \"org.apache.hadoop.fs.s3a.SimpleAWSCredentialsProvider\")\n",
    "         .getOrCreate()\n",
    "        )"
   ]
  },
  {
   "cell_type": "markdown",
   "id": "7b09d9ca-90ef-4353-8000-367290bd3571",
   "metadata": {},
   "source": [
    "## ETL Trust"
   ]
  },
  {
   "cell_type": "markdown",
   "id": "6f2f3ab1-a4ad-41d2-b9eb-4659f624ca08",
   "metadata": {},
   "source": [
    "### Lendo a Camada Context"
   ]
  },
  {
   "cell_type": "code",
   "execution_count": 3,
   "id": "29d479ef-b96d-4373-a90a-6e59b17a147a",
   "metadata": {},
   "outputs": [
    {
     "name": "stdout",
     "output_type": "stream",
     "text": [
      "+--------------------------------------------------------------------------------------------------------------------+------------------------------------------------------------------------------------------+--------------+--------+------------------+----------+-----------+-------+------+-------+---------+-------+---------+-------------+---------+----------+\n",
      "|Link_Apto                                                                                                           |Endereco                                                                                  |Bairro        |Valor_RS|Andares           |Tamanho_m2|Valor_RS/m2|Quartos|Suites|Garagem|Banheiros|Varanda|Mobiliado|Portaria     |Metro    |Refdate   |\n",
      "+--------------------------------------------------------------------------------------------------------------------+------------------------------------------------------------------------------------------+--------------+--------+------------------+----------+-----------+-------+------+-------+---------+-------+---------+-------------+---------+----------+\n",
      "|https://loft.com.br/imovel/casa-rua-sao-felix-de-cantalicio-aricanduva-sao-paulo-3-quartos-382m2/kj3fsq             |Rua São Félix de Cantalício - Aricanduva - São Paulo - SP                                 |Aricanduva    |1900000 |Sem info          |382       |4973       |3      |3     |0      |5        |0      |Não      |Sem descrição|100000000|2023-06-03|\n",
      "|https://loft.com.br/imovel/casa-rua-tavares-bastos-perdizes-sao-paulo-3-quartos-90m2/15y1fe8                        |Rua Tavares Bastos - Perdizes - São Paulo - SP                                            |Perdizes      |650000  |Sem info          |90        |7222       |3      |1     |0      |3        |0      |Não      |Sem descrição|100000000|2023-06-03|\n",
      "|https://loft.com.br/imovel/apartamento-rua-silva-teles-pari-sao-paulo-3-quartos-69m2/1dasle7                        |Condomínio Living Elegance - Rua Silva Teles - Pari - São Paulo - SP                      |Pari          |827999  |4º andar em diante|69        |11999      |3      |1     |2      |2        |1      |Não      |Sem descrição|100000000|2023-06-03|\n",
      "|https://loft.com.br/imovel/apartamento-rua-do-estilo-barroco-santo-amaro-sao-paulo-4-quartos-284m2/oofj5l           |Condomínio Edificio Montmartre - Rua do Estilo Barroco - Santo Amaro - São Paulo - SP     |Santo Amaro   |2200000 |Sem info          |284       |7746       |4      |2     |4      |5        |0      |Não      |Sem descrição|191      |2023-06-03|\n",
      "|https://loft.com.br/imovel/apartamento-praca-julio-prestes-campos-elisios-sao-paulo-2-quartos-86m2/lxlwa            |Condomínio Edificio Miri - Praça Júlio Prestes - Campos Elísios - São Paulo - SP          |Campos Elísios|360000  |4º andar em diante|86        |4186       |2      |0     |0      |2        |0      |Não      |24h          |716      |2023-06-03|\n",
      "|https://loft.com.br/imovel/apartamento-rua-bento-freitas-republica-sao-paulo-1-quarto-36m2/1wcyj4j                  |Condomínio Vibe Republica - Rua Bento Freitas - República - São Paulo - SP                |República     |450000  |Sem info          |36        |12500      |1      |0     |0      |1        |0      |Não      |Sem descrição|223      |2023-06-03|\n",
      "|https://loft.com.br/imovel/apartamento-rua-oscar-freire-pinheiros-sao-paulo-1-quarto-18m2/bhazdt                    |Condomínio VN Oscar Freire - Rua Oscar Freire - Pinheiros - São Paulo - SP                |Pinheiros     |530000  |4º andar em diante|18        |29444      |1      |0     |1      |1        |0      |Não      |Sem descrição|74       |2023-06-03|\n",
      "|https://loft.com.br/imovel/apartamento-rua-marcos-fernandes-cursino-sao-paulo-4-quartos-300m2/ecl6za                |Condomínio Edificio La Residence - Rua Marcos Fernandes - Cursino - São Paulo - SP        |Cursino       |2300000 |3º andar          |300       |7666       |4      |4     |4      |6        |1      |Não      |24h          |100000000|2023-06-03|\n",
      "|https://loft.com.br/imovel/apartamento-avenida-raimundo-pereira-de-magalhaes-jaragua-sao-paulo-2-quartos-42m2/jvbnls|Condomínio Vila Austria - Avenida Raimundo Pereira de Magalhães - Jaraguá - São Paulo - SP|Jaraguá       |230000  |3º andar          |42        |5476       |2      |0     |0      |1        |0      |Não      |24h          |100000000|2023-06-03|\n",
      "|https://loft.com.br/imovel/apartamento-rua-tucuna-perdizes-sao-paulo-3-quartos-147m2/ss84g0                         |Condomínio Edificio Solar Dos Buzios - Rua Tucuna - Perdizes - São Paulo - SP             |Perdizes      |1190000 |4º andar em diante|147       |8095       |3      |1     |2      |4        |2      |Não      |Sem descrição|100000000|2023-06-03|\n",
      "+--------------------------------------------------------------------------------------------------------------------+------------------------------------------------------------------------------------------+--------------+--------+------------------+----------+-----------+-------+------+-------+---------+-------+---------+-------------+---------+----------+\n",
      "only showing top 10 rows\n",
      "\n"
     ]
    }
   ],
   "source": [
    "path = 's3a://context/loft'\n",
    "\n",
    "df_context = spark.read.format('parquet').load(path)\n",
    "\n",
    "df_context.show(10, False)"
   ]
  },
  {
   "cell_type": "code",
   "execution_count": 4,
   "id": "24502c65-74cc-4e91-8c22-f097d8091989",
   "metadata": {},
   "outputs": [
    {
     "name": "stdout",
     "output_type": "stream",
     "text": [
      "+----------+\n",
      "|   Refdate|\n",
      "+----------+\n",
      "|2023-04-17|\n",
      "|2023-05-02|\n",
      "|2023-05-17|\n",
      "|2023-06-03|\n",
      "|2023-06-17|\n",
      "|2023-07-02|\n",
      "+----------+\n",
      "\n"
     ]
    }
   ],
   "source": [
    "(df_context\n",
    " .select(\"Refdate\")\n",
    " .distinct()\n",
    " .orderBy(\"Refdate\", ascending=True)\n",
    " .show()\n",
    ")"
   ]
  },
  {
   "cell_type": "code",
   "execution_count": 5,
   "id": "46947711-c4b4-483e-919d-7f81bf797a9d",
   "metadata": {},
   "outputs": [
    {
     "name": "stdout",
     "output_type": "stream",
     "text": [
      "+----------------------------------------------------------------------------------------------------------+-----+\n",
      "|Link_Apto                                                                                                 |count|\n",
      "+----------------------------------------------------------------------------------------------------------+-----+\n",
      "|https://loft.com.br/imovel/apartamento-jua-mirim-jose-bonifacio-sao-paulo-2-quartos-36m2/yaqi4a           |344  |\n",
      "|https://loft.com.br/imovel/apartamento-jua-mirim-jose-bonifacio-sao-paulo-2-quartos-42m2/z194kv           |341  |\n",
      "|https://loft.com.br/imovel/apartamento-alvaro-de-carvalho-republica-sao-paulo-1-quarto-23m2/xqslbi        |331  |\n",
      "|https://loft.com.br/imovel/apartamento-dona-paulina-se-sao-paulo-1-quarto-21m2/zf57g1                     |331  |\n",
      "|https://loft.com.br/imovel/apartamento-mauro-de-araujo-ribeiro-jaragua-sao-paulo-2-quartos-50m2/stp5gu    |325  |\n",
      "|https://loft.com.br/imovel/apartamento-pascal-campo-belo-sao-paulo-1-quarto-35m2/ygud0e                   |325  |\n",
      "|https://loft.com.br/imovel/apartamento-monte-azul-paulista-jaragua-sao-paulo-2-quartos-49m2/mj1p6         |309  |\n",
      "|https://loft.com.br/imovel/apartamento-helena-zerrener-se-sao-paulo-1-quarto-42m2/wpgdvd                  |295  |\n",
      "|https://loft.com.br/imovel/apartamento-iososuke-okaue-parque-do-carmo-sao-paulo-2-quartos-42m2/kauerh     |225  |\n",
      "|https://loft.com.br/imovel/apartamento-alvaro-de-carvalho-republica-sao-paulo-2-quartos-64m2/y5d8v1       |218  |\n",
      "|https://loft.com.br/imovel/apartamento-igarape-agua-azul-cidade-tiradentes-sao-paulo-2-quartos-58m2/josoep|194  |\n",
      "|https://loft.com.br/imovel/apartamento-olga-fadel-abarca-cidade-lider-sao-paulo-2-quartos-52m2/xndyjb     |194  |\n",
      "|https://loft.com.br/imovel/apartamento-soror-angelica-casa-verde-sao-paulo-4-quartos-360m2/i8lrfs         |186  |\n",
      "|https://loft.com.br/imovel/apartamento-santa-luzia-se-sao-paulo-1-quarto-58m2/5hcb8s                      |183  |\n",
      "|https://loft.com.br/imovel/apartamento-sao-francisco-se-sao-paulo-1-quarto-38m2/3bxxvq                    |183  |\n",
      "|https://loft.com.br/imovel/apartamento-tabatinguera-se-sao-paulo-1-quarto-22m2/ilgoa0                     |183  |\n",
      "|https://loft.com.br/imovel/apartamento-ipiranga-republica-sao-paulo-1-quarto-35m2/auity2                  |182  |\n",
      "|https://loft.com.br/imovel/apartamento-tabatinguera-se-sao-paulo-studio-32m2/8mkfe0                       |182  |\n",
      "|https://loft.com.br/imovel/apartamento-luis-mateus-guaianases-sao-paulo-2-quartos-43m2/2ymh1j             |181  |\n",
      "|https://loft.com.br/imovel/apartamento-saguairu-casa-verde-sao-paulo-3-quartos-98m2/1gnu8m6               |180  |\n",
      "+----------------------------------------------------------------------------------------------------------+-----+\n",
      "only showing top 20 rows\n",
      "\n"
     ]
    }
   ],
   "source": [
    "(df_context\n",
    " .groupBy(fn.col(\"Link_Apto\"))\n",
    " .count()\n",
    " # .filter(fn.col(\"count\") == 344)\n",
    " .orderBy(\"count\", ascending=False)\n",
    ").show(20, False)"
   ]
  },
  {
   "cell_type": "code",
   "execution_count": 6,
   "id": "1a35a41d-db8d-4972-a993-ef64be19cb7d",
   "metadata": {},
   "outputs": [
    {
     "name": "stdout",
     "output_type": "stream",
     "text": [
      "+-----------------------------------------------------------------------------------------------------------------+-----+\n",
      "|Link_Apto                                                                                                        |count|\n",
      "+-----------------------------------------------------------------------------------------------------------------+-----+\n",
      "|https://loft.com.br/imovel/apartamento-rua-henrique-fausto-lancellotti-campo-belo-sao-paulo-1-quarto-29m2/19oqvlp|4    |\n",
      "|https://loft.com.br/imovel/apartamento-rua-goncalves-ledo-ipiranga-sao-paulo-3-quartos-118m2/13ugre              |3    |\n",
      "|https://loft.com.br/imovel/apartamento-avenida-carioca-ipiranga-sao-paulo-2-quartos-52m2/134johq                 |3    |\n",
      "|https://loft.com.br/imovel/casa-rua-desembargador-do-vale-vila-romana-sao-paulo-3-quartos-180m2/12dr31p          |3    |\n",
      "|https://loft.com.br/imovel/apartamento-avenida-paulista-jardim-america-sao-paulo-1-quarto-27m2/wxpxq4            |3    |\n",
      "|https://loft.com.br/imovel/apartamento-avenida-do-guaca-mandaqui-sao-paulo-3-quartos-112m2/1kj1p1e               |3    |\n",
      "|https://loft.com.br/imovel/apartamento-rua-americo-brasiliense-santo-amaro-sao-paulo-1-quarto-28m2/u34jn2        |3    |\n",
      "|https://loft.com.br/imovel/apartamento-rua-osorio-franco-vilhena-vila-curuca-sao-paulo-2-quartos-48m2/981xbs     |3    |\n",
      "|https://loft.com.br/imovel/apartamento-rua-itajiba-bosque-da-saude-sao-paulo-2-quartos-50m2/16dvoaa              |3    |\n",
      "|https://loft.com.br/imovel/apartamento-rua-professor-milton-rodrigues-santana-sao-paulo-1-quarto-26m2/1jqvpp6    |3    |\n",
      "+-----------------------------------------------------------------------------------------------------------------+-----+\n",
      "only showing top 10 rows\n",
      "\n"
     ]
    }
   ],
   "source": [
    "(df_context\n",
    " .orderBy(\"Refdate\", ascending=False)\n",
    " .dropDuplicates([\"Link_Apto\", \"Endereco\", \"Valor_RS\"])\n",
    " .groupBy(fn.col(\"Link_Apto\"))\n",
    " .count()\n",
    " .orderBy(\"count\", ascending=False)\n",
    " # .filter(fn.col(\"Link_Apto\") == \"https://loft.com.br/imovel/casa-avenida-belisario-pena-vila-maria-sao-paulo-4-quartos-297m2/1a1zp40\")\n",
    ").show(10, False)"
   ]
  },
  {
   "cell_type": "code",
   "execution_count": 7,
   "id": "932b5a8b-ae4a-4e39-9587-1603bb6534e1",
   "metadata": {},
   "outputs": [
    {
     "name": "stdout",
     "output_type": "stream",
     "text": [
      "+-----------------------------------------------------------------------------------------------------------------+-------------------------------------------------------------+----------+--------+------------------+----------+-----------+-------+------+-------+---------+-------+---------+-------------+---------+----------+\n",
      "|Link_Apto                                                                                                        |Endereco                                                     |Bairro    |Valor_RS|Andares           |Tamanho_m2|Valor_RS/m2|Quartos|Suites|Garagem|Banheiros|Varanda|Mobiliado|Portaria     |Metro    |Refdate   |\n",
      "+-----------------------------------------------------------------------------------------------------------------+-------------------------------------------------------------+----------+--------+------------------+----------+-----------+-------+------+-------+---------+-------+---------+-------------+---------+----------+\n",
      "|https://loft.com.br/imovel/apartamento-rua-henrique-fausto-lancellotti-campo-belo-sao-paulo-1-quarto-29m2/19oqvlp|Rua Henrique Fausto Lancellotti - Campo Belo - São Paulo - SP|Campo Belo|265000  |4º andar em diante|29        |9137       |1      |1     |1      |1        |0      |Não      |Sem descrição|100000000|2023-05-02|\n",
      "|https://loft.com.br/imovel/apartamento-rua-henrique-fausto-lancellotti-campo-belo-sao-paulo-1-quarto-29m2/19oqvlp|Rua Henrique Fausto Lancellotti - Campo Belo - São Paulo - SP|Campo Belo|272000  |7º andar ou acima |29        |9379       |1      |1     |1      |1        |0      |Não      |Sem descrição|100000000|2023-05-17|\n",
      "|https://loft.com.br/imovel/apartamento-rua-henrique-fausto-lancellotti-campo-belo-sao-paulo-1-quarto-29m2/19oqvlp|Rua Henrique Fausto Lancellotti - Campo Belo - São Paulo - SP|Campo Belo|275000  |4º andar em diante|29        |9482       |1      |1     |1      |1        |0      |Não      |Sem descrição|100000000|2023-06-17|\n",
      "|https://loft.com.br/imovel/apartamento-rua-henrique-fausto-lancellotti-campo-belo-sao-paulo-1-quarto-29m2/19oqvlp|Rua Henrique Fausto Lancellotti - Campo Belo - São Paulo - SP|Campo Belo|290000  |4º andar em diante|29        |10000      |1      |1     |1      |1        |0      |Não      |Sem descrição|100000000|2023-06-03|\n",
      "+-----------------------------------------------------------------------------------------------------------------+-------------------------------------------------------------+----------+--------+------------------+----------+-----------+-------+------+-------+---------+-------+---------+-------------+---------+----------+\n",
      "\n"
     ]
    }
   ],
   "source": [
    "(df_context\n",
    " .orderBy(\"Refdate\", ascending=False)\n",
    " .dropDuplicates([\"Link_Apto\", \"Endereco\", \"Valor_RS\"])\n",
    " .filter(fn.col(\"Link_Apto\") == \"https://loft.com.br/imovel/apartamento-rua-henrique-fausto-lancellotti-campo-belo-sao-paulo-1-quarto-29m2/19oqvlp\")\n",
    ").show(10, False)"
   ]
  },
  {
   "cell_type": "code",
   "execution_count": 8,
   "id": "f2aee8a8-a8f4-42f3-ad8e-6f82d48853cf",
   "metadata": {},
   "outputs": [
    {
     "name": "stdout",
     "output_type": "stream",
     "text": [
      "+---+----------+----------------------------------------------------------------------------------------------------------+----------------------------------------------------------------------------------------------------+---------------+--------+------------------+----------+-----------+-------+------+-------+---------+-------+---------+-------------+---------+\n",
      "|id |Refdate   |Link_Apto                                                                                                 |Endereco                                                                                            |Bairro         |Valor_RS|Andares           |Tamanho_m2|Valor_RS/m2|Quartos|Suites|Garagem|Banheiros|Varanda|Mobiliado|Portaria     |Metro    |\n",
      "+---+----------+----------------------------------------------------------------------------------------------------------+----------------------------------------------------------------------------------------------------+---------------+--------+------------------+----------+-----------+-------+------+-------+---------+-------+---------+-------------+---------+\n",
      "|0  |2023-07-02|Link_Apto                                                                                                 |null                                                                                                |Bairro         |null    |Sem info          |0         |0          |null   |0     |0      |0        |0      |null     |Sem descrição|100000000|\n",
      "|1  |2023-07-02|https://loft.com.br/imovel/apartamento-abagiba-sacoma-sao-paulo-3-quartos-70m2/tk4s5a                     |Condomínio Edificio Volga - Rua Abagiba - Sacomã - São Paulo - SP                                   |Sacomã         |560000  |Sem info          |70        |8000       |3      |0     |2      |2        |0      |Sim      |Sem descrição|100000000|\n",
      "|2  |2023-07-02|https://loft.com.br/imovel/apartamento-adelino-de-almeida-castilho-tatuape-sao-paulo-2-quartos-68m2/fxmovw|Condomínio Flex Tatuape - Rua Adelino de Almeida Castilho - Tatuapé - São Paulo - SP                |Tatuapé        |606382  |Sem info          |68        |8917       |2      |0     |1      |2        |0      |Sim      |Sem descrição|100000000|\n",
      "|3  |2023-07-02|https://loft.com.br/imovel/apartamento-agrimensor-sugaya-jose-bonifacio-sao-paulo-2-quartos-48m2/1195r38  |Condomínio Residencial Vida Plena Itaquera - Rua Agrimensor Sugaya - José Bonifácio - São Paulo - SP|José Bonifácio |265000  |4º andar em diante|48        |5520       |2      |0     |1      |1        |0      |Sim      |24h          |100000000|\n",
      "|4  |2023-07-02|https://loft.com.br/imovel/apartamento-agrimensor-sugaya-jose-bonifacio-sao-paulo-3-quartos-99m2/s8wav1   |Condomínio Residencial Viver Itaquera - Rua Agrimensor Sugaya - José Bonifácio - São Paulo - SP     |José Bonifácio |334178  |4º andar em diante|99        |3375       |3      |0     |1      |2        |0      |Sim      |24h          |100000000|\n",
      "|5  |2023-07-02|https://loft.com.br/imovel/apartamento-alameda-barao-de-limeira-republica-sao-paulo-4-quartos-82m2/z095wj |Condomínio Edificio Palacete Guapiara - Alameda Barão de Limeira - República - São Paulo - SP       |República      |400000  |Sem info          |82        |4878       |4      |0     |0      |2        |0      |Sim      |Sem descrição|529      |\n",
      "|6  |2023-07-02|https://loft.com.br/imovel/apartamento-alameda-barros-santa-cecilia-sao-paulo-3-quartos-165m2/1r8mvtt     |Condomínio Edificio Meridien - Alameda Barros - Santa Cecília - São Paulo - SP                      |Santa Cecília  |2320000 |4º andar em diante|165       |14060      |3      |3     |6      |4        |0      |Sim      |24h          |365      |\n",
      "|7  |2023-07-02|https://loft.com.br/imovel/apartamento-alameda-campinas-jardim-paulista-sao-paulo-1-quarto-30m2/ypqynu    |Condomínio Edificio Hampton Park Residence - Alameda Campinas - Jardim Paulista - São Paulo - SP    |Jardim Paulista|636000  |4º andar em diante|30        |21200      |1      |1     |1      |1        |0      |Sim      |Sem descrição|916      |\n",
      "|8  |2023-07-02|https://loft.com.br/imovel/apartamento-alameda-campinas-jardim-paulista-sao-paulo-1-quarto-31m2/1wpa3v4   |Condomínio Edificio Hampton Park Residence - Alameda Campinas - Jardim Paulista - São Paulo - SP    |Jardim Paulista|320000  |Sem info          |31        |10322      |1      |1     |1      |1        |0      |Sim      |Sem descrição|916      |\n",
      "|9  |2023-07-02|https://loft.com.br/imovel/apartamento-alameda-campinas-jardim-paulista-sao-paulo-1-quarto-31m2/7mmabm    |Condomínio Edificio Hampton Park Residence - Alameda Campinas - Jardim Paulista - São Paulo - SP    |Jardim Paulista|320000  |4º andar em diante|31        |10322      |1      |1     |1      |1        |0      |Sim      |Sem descrição|916      |\n",
      "+---+----------+----------------------------------------------------------------------------------------------------------+----------------------------------------------------------------------------------------------------+---------------+--------+------------------+----------+-----------+-------+------+-------+---------+-------+---------+-------------+---------+\n",
      "only showing top 10 rows\n",
      "\n"
     ]
    }
   ],
   "source": [
    "df_trust = (df_context\n",
    "            .orderBy(\"Refdate\", ascending=False)\n",
    "            .dropDuplicates([\"Link_Apto\", \"Endereco\", \"Valor_RS\"])\n",
    "            .orderBy(\"Refdate\", ascending=False)\n",
    "            .withColumn(\"id\", fn.monotonically_increasing_id())\n",
    "           )\n",
    "\n",
    "df_trust = (df_trust\n",
    "            .select(\"id\", \"Refdate\", \"Link_Apto\", \"Endereco\", \"Bairro\", \"Valor_RS\", \n",
    "                    \"Andares\", \"Tamanho_m2\", \"Valor_RS/m2\", \"Quartos\", \"Suites\", \n",
    "                    \"Garagem\", \"Banheiros\", \"Varanda\", \"Mobiliado\", \"Portaria\", \n",
    "                    \"Metro\")            \n",
    "           )\n",
    "\n",
    "df_trust.show(10, False)"
   ]
  },
  {
   "cell_type": "markdown",
   "id": "adcb2430-ff6b-435e-af6e-6d8420684b69",
   "metadata": {},
   "source": [
    "### Testando Drop Duplicates"
   ]
  },
  {
   "cell_type": "code",
   "execution_count": 10,
   "id": "ad05730e-a3f0-4e79-a2d5-0d4e54d71788",
   "metadata": {},
   "outputs": [
    {
     "name": "stdout",
     "output_type": "stream",
     "text": [
      "+---+---+-------+----------+-------------------+\n",
      "|  a|  b|      c|         d|                  e|\n",
      "+---+---+-------+----------+-------------------+\n",
      "|  1|2.0|string1|2000-01-01|2000-01-01 12:00:00|\n",
      "|  2|3.0|string3|2000-02-01|2000-01-02 12:00:00|\n",
      "|  3|3.0|string3|2000-03-01|2000-01-03 12:00:00|\n",
      "+---+---+-------+----------+-------------------+\n",
      "\n"
     ]
    }
   ],
   "source": [
    "from datetime import datetime, date\n",
    "import pandas as pd\n",
    "from pyspark.sql import Row\n",
    "\n",
    "df = spark.createDataFrame([\n",
    "    Row(a=1, b=2., c='string1', d=date(2000, 1, 1), e=datetime(2000, 1, 1, 12, 0)),\n",
    "    Row(a=2, b=3., c='string3', d=date(2000, 2, 1), e=datetime(2000, 1, 2, 12, 0)),\n",
    "    Row(a=3, b=3., c='string3', d=date(2000, 3, 1), e=datetime(2000, 1, 3, 12, 0))\n",
    "])\n",
    "\n",
    "df.show()"
   ]
  },
  {
   "cell_type": "code",
   "execution_count": 11,
   "id": "33383143-3394-4e2a-98bf-4bba8f8770e4",
   "metadata": {},
   "outputs": [
    {
     "name": "stdout",
     "output_type": "stream",
     "text": [
      "+---+---+-------+----------+-------------------+\n",
      "|  a|  b|      c|         d|                  e|\n",
      "+---+---+-------+----------+-------------------+\n",
      "|  1|2.0|string1|2000-01-01|2000-01-01 12:00:00|\n",
      "|  3|3.0|string3|2000-03-01|2000-01-03 12:00:00|\n",
      "+---+---+-------+----------+-------------------+\n",
      "\n"
     ]
    }
   ],
   "source": [
    "(df\n",
    " .orderBy(\"a\", ascending=False)\n",
    " .dropDuplicates([\"b\", \"c\"])\n",
    ").show()"
   ]
  },
  {
   "cell_type": "code",
   "execution_count": null,
   "id": "140eb8e0-1b70-42e6-a349-bfe72db5a576",
   "metadata": {},
   "outputs": [],
   "source": []
  }
 ],
 "metadata": {
  "kernelspec": {
   "display_name": "Python 3 (ipykernel)",
   "language": "python",
   "name": "python3"
  },
  "language_info": {
   "codemirror_mode": {
    "name": "ipython",
    "version": 3
   },
   "file_extension": ".py",
   "mimetype": "text/x-python",
   "name": "python",
   "nbconvert_exporter": "python",
   "pygments_lexer": "ipython3",
   "version": "3.10.5"
  }
 },
 "nbformat": 4,
 "nbformat_minor": 5
}
