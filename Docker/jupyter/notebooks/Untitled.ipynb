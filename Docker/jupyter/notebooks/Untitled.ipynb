{
 "cells": [
  {
   "cell_type": "code",
   "execution_count": 1,
   "id": "f03b3426-cb25-4980-9b62-eacc54ce516f",
   "metadata": {},
   "outputs": [
    {
     "data": {
      "text/html": [
       "<style>pre { white-space: pre !important; }</style>"
      ],
      "text/plain": [
       "<IPython.core.display.HTML object>"
      ]
     },
     "metadata": {},
     "output_type": "display_data"
    }
   ],
   "source": [
    "from pyspark.sql.types import *\n",
    "import pyspark.sql.functions as fn\n",
    "from pyspark.sql import SparkSession\n",
    "from IPython.core.display import HTML\n",
    "display(HTML(\"<style>pre { white-space: pre !important; }</style>\"))\n",
    "\n",
    "spark = (SparkSession.builder\n",
    "         .config(\"spark.jars\",\"\"\"/home/jovyan/jars/aws-java-sdk-core-1.11.534.jar,\n",
    "                                 /home/jovyan/jars/aws-java-sdk-dynamodb-1.11.534.jar,\n",
    "                                 /home/jovyan/jars/aws-java-sdk-s3-1.11.534.jar,\n",
    "                                 /home/jovyan/jars/hadoop-aws-3.2.2.jar\"\"\")\n",
    "         .config(\"spark.hadoop.fs.s3a.endpoint\", \"http://minio:9000\")\n",
    "         .config(\"spark.hadoop.fs.s3a.access.key\", \"aulafia\")\n",
    "         .config(\"spark.hadoop.fs.s3a.secret.key\", \"aulafia@123\")\n",
    "         .config(\"spark.hadoop.fs.s3a.path.style.access\", True)\n",
    "         .config(\"spark.hadoop.fs.s3a.impl\", \"org.apache.hadoop.fs.s3a.S3AFileSystem\")\n",
    "         .config(\"spark.hadoop.fs.s3a.aws.credentials.provider\", \"org.apache.hadoop.fs.s3a.SimpleAWSCredentialsProvider\")\n",
    "         .getOrCreate()\n",
    "        )"
   ]
  },
  {
   "cell_type": "code",
   "execution_count": 2,
   "id": "9a130ba7-68a2-478b-af35-5e7b75336eb2",
   "metadata": {},
   "outputs": [
    {
     "name": "stdout",
     "output_type": "stream",
     "text": [
      "+--------------------------------------------------------------------------------------------------------------------+------------------------------------------------------------------------------------------+--------------+--------+------------------+----------+-----------+-------+------+-------+---------+-------+---------+-------------+---------+----------+\n",
      "|Link_Apto                                                                                                           |Endereco                                                                                  |Bairro        |Valor_RS|Andares           |Tamanho_m2|Valor_RS/m2|Quartos|Suites|Garagem|Banheiros|Varanda|Mobiliado|Portaria     |Metro    |Refdate   |\n",
      "+--------------------------------------------------------------------------------------------------------------------+------------------------------------------------------------------------------------------+--------------+--------+------------------+----------+-----------+-------+------+-------+---------+-------+---------+-------------+---------+----------+\n",
      "|https://loft.com.br/imovel/casa-rua-sao-felix-de-cantalicio-aricanduva-sao-paulo-3-quartos-382m2/kj3fsq             |Rua São Félix de Cantalício - Aricanduva - São Paulo - SP                                 |Aricanduva    |1900000 |null              |382       |4973       |3      |3     |0      |5        |0      |Não      |Sem descrição|100000000|2023-06-03|\n",
      "|https://loft.com.br/imovel/casa-rua-tavares-bastos-perdizes-sao-paulo-3-quartos-90m2/15y1fe8                        |Rua Tavares Bastos - Perdizes - São Paulo - SP                                            |Perdizes      |650000  |null              |90        |7222       |3      |1     |0      |3        |0      |Não      |Sem descrição|100000000|2023-06-03|\n",
      "|https://loft.com.br/imovel/apartamento-rua-silva-teles-pari-sao-paulo-3-quartos-69m2/1dasle7                        |Condomínio Living Elegance - Rua Silva Teles - Pari - São Paulo - SP                      |Pari          |827999  |4º andar em diante|69        |11999      |3      |1     |2      |2        |1      |Não      |Sem descrição|100000000|2023-06-03|\n",
      "|https://loft.com.br/imovel/apartamento-rua-do-estilo-barroco-santo-amaro-sao-paulo-4-quartos-284m2/oofj5l           |Condomínio Edificio Montmartre - Rua do Estilo Barroco - Santo Amaro - São Paulo - SP     |Santo Amaro   |2200000 |null              |284       |7746       |4      |2     |4      |5        |0      |Não      |Sem descrição|191      |2023-06-03|\n",
      "|https://loft.com.br/imovel/apartamento-praca-julio-prestes-campos-elisios-sao-paulo-2-quartos-86m2/lxlwa            |Condomínio Edificio Miri - Praça Júlio Prestes - Campos Elísios - São Paulo - SP          |Campos Elísios|360000  |4º andar em diante|86        |4186       |2      |0     |0      |2        |0      |Não      |24h          |716      |2023-06-03|\n",
      "|https://loft.com.br/imovel/apartamento-rua-bento-freitas-republica-sao-paulo-1-quarto-36m2/1wcyj4j                  |Condomínio Vibe Republica - Rua Bento Freitas - República - São Paulo - SP                |República     |450000  |null              |36        |12500      |1      |0     |0      |1        |0      |Não      |Sem descrição|223      |2023-06-03|\n",
      "|https://loft.com.br/imovel/apartamento-rua-oscar-freire-pinheiros-sao-paulo-1-quarto-18m2/bhazdt                    |Condomínio VN Oscar Freire - Rua Oscar Freire - Pinheiros - São Paulo - SP                |Pinheiros     |530000  |4º andar em diante|18        |29444      |1      |0     |1      |1        |0      |Não      |Sem descrição|74       |2023-06-03|\n",
      "|https://loft.com.br/imovel/apartamento-rua-marcos-fernandes-cursino-sao-paulo-4-quartos-300m2/ecl6za                |Condomínio Edificio La Residence - Rua Marcos Fernandes - Cursino - São Paulo - SP        |Cursino       |2300000 |3º andar          |300       |7666       |4      |4     |4      |6        |1      |Não      |24h          |100000000|2023-06-03|\n",
      "|https://loft.com.br/imovel/apartamento-avenida-raimundo-pereira-de-magalhaes-jaragua-sao-paulo-2-quartos-42m2/jvbnls|Condomínio Vila Austria - Avenida Raimundo Pereira de Magalhães - Jaraguá - São Paulo - SP|Jaraguá       |230000  |3º andar          |42        |5476       |2      |0     |0      |1        |0      |Não      |24h          |100000000|2023-06-03|\n",
      "|https://loft.com.br/imovel/apartamento-rua-tucuna-perdizes-sao-paulo-3-quartos-147m2/ss84g0                         |Condomínio Edificio Solar Dos Buzios - Rua Tucuna - Perdizes - São Paulo - SP             |Perdizes      |1190000 |4º andar em diante|147       |8095       |3      |1     |2      |4        |2      |Não      |Sem descrição|100000000|2023-06-03|\n",
      "+--------------------------------------------------------------------------------------------------------------------+------------------------------------------------------------------------------------------+--------------+--------+------------------+----------+-----------+-------+------+-------+---------+-------+---------+-------------+---------+----------+\n",
      "only showing top 10 rows\n",
      "\n"
     ]
    }
   ],
   "source": [
    "path = 's3a://context/data'\n",
    "\n",
    "df_raw = spark.read.format('parquet').load(path)\n",
    "\n",
    "df_raw.show(10, False)"
   ]
  },
  {
   "cell_type": "code",
   "execution_count": null,
   "id": "f7365546-7188-45bd-b1c6-9259baa16a3d",
   "metadata": {},
   "outputs": [],
   "source": []
  }
 ],
 "metadata": {
  "kernelspec": {
   "display_name": "Python 3 (ipykernel)",
   "language": "python",
   "name": "python3"
  },
  "language_info": {
   "codemirror_mode": {
    "name": "ipython",
    "version": 3
   },
   "file_extension": ".py",
   "mimetype": "text/x-python",
   "name": "python",
   "nbconvert_exporter": "python",
   "pygments_lexer": "ipython3",
   "version": "3.10.5"
  }
 },
 "nbformat": 4,
 "nbformat_minor": 5
}
