{
 "cells": [
  {
   "cell_type": "code",
   "execution_count": null,
   "metadata": {},
   "outputs": [],
   "source": [
    "# link: https://portal.loft.com.br/valor-do-metro-quadrado-em-sp-por-bairro-especulometro/\n",
    "# bairro: valor/m2"
   ]
  },
  {
   "cell_type": "code",
   "execution_count": 37,
   "metadata": {},
   "outputs": [
    {
     "data": {
      "text/html": [
       "<div>\n",
       "<style scoped>\n",
       "    .dataframe tbody tr th:only-of-type {\n",
       "        vertical-align: middle;\n",
       "    }\n",
       "\n",
       "    .dataframe tbody tr th {\n",
       "        vertical-align: top;\n",
       "    }\n",
       "\n",
       "    .dataframe thead th {\n",
       "        text-align: right;\n",
       "    }\n",
       "</style>\n",
       "<table border=\"1\" class=\"dataframe\">\n",
       "  <thead>\n",
       "    <tr style=\"text-align: right;\">\n",
       "      <th></th>\n",
       "      <th>bairro</th>\n",
       "      <th>valor/m2</th>\n",
       "    </tr>\n",
       "  </thead>\n",
       "  <tbody>\n",
       "    <tr>\n",
       "      <th>0</th>\n",
       "      <td>Vila Nova Conceição</td>\n",
       "      <td>16839</td>\n",
       "    </tr>\n",
       "    <tr>\n",
       "      <th>1</th>\n",
       "      <td>Jardim Europa</td>\n",
       "      <td>16298</td>\n",
       "    </tr>\n",
       "    <tr>\n",
       "      <th>2</th>\n",
       "      <td>Vila Olímpia</td>\n",
       "      <td>12667</td>\n",
       "    </tr>\n",
       "  </tbody>\n",
       "</table>\n",
       "</div>"
      ],
      "text/plain": [
       "                bairro  valor/m2\n",
       "0  Vila Nova Conceição     16839\n",
       "1        Jardim Europa     16298\n",
       "2         Vila Olímpia     12667"
      ]
     },
     "execution_count": 37,
     "metadata": {},
     "output_type": "execute_result"
    }
   ],
   "source": [
    "import pandas as pd\n",
    "\n",
    "# Ler o arquivo .txt e extrair os dados\n",
    "with open('media_bairro.txt', 'r') as file:\n",
    "    lines = file.readlines()\n",
    "\n",
    "# Inicializar listas para armazenar os dados\n",
    "bairros = []\n",
    "valores_por_m2 = []\n",
    "\n",
    "# Loop pelas linhas do arquivo e extrair os dados relevantes\n",
    "for line in lines:\n",
    "    if ':' in line:\n",
    "        parts = line.split(':')\n",
    "        bairro = parts[0].strip()\n",
    "        valor = float(parts[1].replace('R$', '').replace(',', '').replace('.', '').strip())\n",
    "        bairros.append(bairro)\n",
    "        valores_por_m2.append(valor)\n",
    "\n",
    "# Criando Dataframe\n",
    "data = {'bairro': bairros, 'valor/m2': valores_por_m2}\n",
    "df_bairro = pd.DataFrame(data)\n",
    "df_bairro['valor/m2'] = df_bairro['valor/m2'].astype('int64')\n",
    "df_bairro.head(3)"
   ]
  },
  {
   "cell_type": "code",
   "execution_count": 2,
   "metadata": {},
   "outputs": [
    {
     "data": {
      "text/html": [
       "<div>\n",
       "<style scoped>\n",
       "    .dataframe tbody tr th:only-of-type {\n",
       "        vertical-align: middle;\n",
       "    }\n",
       "\n",
       "    .dataframe tbody tr th {\n",
       "        vertical-align: top;\n",
       "    }\n",
       "\n",
       "    .dataframe thead th {\n",
       "        text-align: right;\n",
       "    }\n",
       "</style>\n",
       "<table border=\"1\" class=\"dataframe\">\n",
       "  <thead>\n",
       "    <tr style=\"text-align: right;\">\n",
       "      <th></th>\n",
       "      <th>Link_Apto</th>\n",
       "      <th>Endereco</th>\n",
       "      <th>Bairro</th>\n",
       "      <th>Valor_RS</th>\n",
       "      <th>Andares</th>\n",
       "      <th>Tamanho_m2</th>\n",
       "      <th>Valor_RS/m2</th>\n",
       "      <th>Quartos</th>\n",
       "      <th>Suites</th>\n",
       "      <th>Garagem</th>\n",
       "      <th>Banheiros</th>\n",
       "      <th>Varanda</th>\n",
       "      <th>Mobiliado</th>\n",
       "      <th>Portaria</th>\n",
       "      <th>Metro</th>\n",
       "      <th>id</th>\n",
       "      <th>Refdate</th>\n",
       "      <th>Lat</th>\n",
       "      <th>Long</th>\n",
       "    </tr>\n",
       "  </thead>\n",
       "  <tbody>\n",
       "    <tr>\n",
       "      <th>0</th>\n",
       "      <td>https://loft.com.br/imovel/apartamento-17-de-j...</td>\n",
       "      <td>Condomínio Click Morumbi - Rua 17 de Janeiro -...</td>\n",
       "      <td>Vila Andrade</td>\n",
       "      <td>272906</td>\n",
       "      <td>4º andar em diante</td>\n",
       "      <td>40</td>\n",
       "      <td>6822</td>\n",
       "      <td>2</td>\n",
       "      <td>0</td>\n",
       "      <td>1</td>\n",
       "      <td>1</td>\n",
       "      <td>0</td>\n",
       "      <td>Não</td>\n",
       "      <td>24h</td>\n",
       "      <td>100000000</td>\n",
       "      <td>12431</td>\n",
       "      <td>2023-04-17T00:00</td>\n",
       "      <td>-20.341310</td>\n",
       "      <td>-49.197098</td>\n",
       "    </tr>\n",
       "    <tr>\n",
       "      <th>1</th>\n",
       "      <td>https://loft.com.br/imovel/apartamento-academi...</td>\n",
       "      <td>Avenida Academia de São Paulo - Itaim Paulista...</td>\n",
       "      <td>Itaim Paulista</td>\n",
       "      <td>245518</td>\n",
       "      <td>3º andar</td>\n",
       "      <td>52</td>\n",
       "      <td>4721</td>\n",
       "      <td>2</td>\n",
       "      <td>1</td>\n",
       "      <td>0</td>\n",
       "      <td>1</td>\n",
       "      <td>0</td>\n",
       "      <td>Não</td>\n",
       "      <td>24h</td>\n",
       "      <td>100000000</td>\n",
       "      <td>12432</td>\n",
       "      <td>2023-04-17T00:00</td>\n",
       "      <td>-23.501765</td>\n",
       "      <td>-46.399609</td>\n",
       "    </tr>\n",
       "    <tr>\n",
       "      <th>2</th>\n",
       "      <td>https://loft.com.br/imovel/apartamento-aguiar-...</td>\n",
       "      <td>Condomínio Helbor Art Paulista - Rua Aguiar de...</td>\n",
       "      <td>República</td>\n",
       "      <td>1380000</td>\n",
       "      <td>4º andar em diante</td>\n",
       "      <td>65</td>\n",
       "      <td>21230</td>\n",
       "      <td>2</td>\n",
       "      <td>1</td>\n",
       "      <td>2</td>\n",
       "      <td>2</td>\n",
       "      <td>0</td>\n",
       "      <td>Não</td>\n",
       "      <td>24h</td>\n",
       "      <td>334</td>\n",
       "      <td>12433</td>\n",
       "      <td>2023-04-17T00:00</td>\n",
       "      <td>-23.545335</td>\n",
       "      <td>-46.642257</td>\n",
       "    </tr>\n",
       "  </tbody>\n",
       "</table>\n",
       "</div>"
      ],
      "text/plain": [
       "                                           Link_Apto  \\\n",
       "0  https://loft.com.br/imovel/apartamento-17-de-j...   \n",
       "1  https://loft.com.br/imovel/apartamento-academi...   \n",
       "2  https://loft.com.br/imovel/apartamento-aguiar-...   \n",
       "\n",
       "                                            Endereco          Bairro  \\\n",
       "0  Condomínio Click Morumbi - Rua 17 de Janeiro -...    Vila Andrade   \n",
       "1  Avenida Academia de São Paulo - Itaim Paulista...  Itaim Paulista   \n",
       "2  Condomínio Helbor Art Paulista - Rua Aguiar de...       República   \n",
       "\n",
       "   Valor_RS             Andares  Tamanho_m2  Valor_RS/m2  Quartos  Suites  \\\n",
       "0    272906  4º andar em diante          40         6822        2       0   \n",
       "1    245518            3º andar          52         4721        2       1   \n",
       "2   1380000  4º andar em diante          65        21230        2       1   \n",
       "\n",
       "   Garagem  Banheiros  Varanda Mobiliado Portaria      Metro     id  \\\n",
       "0        1          1        0       Não      24h  100000000  12431   \n",
       "1        0          1        0       Não      24h  100000000  12432   \n",
       "2        2          2        0       Não      24h        334  12433   \n",
       "\n",
       "            Refdate        Lat       Long  \n",
       "0  2023-04-17T00:00 -20.341310 -49.197098  \n",
       "1  2023-04-17T00:00 -23.501765 -46.399609  \n",
       "2  2023-04-17T00:00 -23.545335 -46.642257  "
      ]
     },
     "execution_count": 2,
     "metadata": {},
     "output_type": "execute_result"
    }
   ],
   "source": [
    "df_imoveis = pd.read_csv('../Power BI/Geoloc.csv', sep=';')\n",
    "\n",
    "# Definindo uma função para aplicar a substituição com fallback para valores não no dicionário\n",
    "def replace_with_fallback(value):\n",
    "    return dicionario_bairros.get(value, value)\n",
    "\n",
    "dicionario_bairros = {'MoemaÍndios': 'Moema Índios', \n",
    "                      'Bosqueda Saúde': 'Bosque da Saúde', \n",
    "                      'FreguesiadoÓ': 'Freguesia do Ó', \n",
    "                      'Altode Pinheiros': 'Alto de Pinheiros', \n",
    "                      'Altoda Lapa': 'Alto da Lapa', \n",
    "                      'JardimÂngela': 'Jardim Ângela', \n",
    "                      'Parquedo Carmo': 'Parque do Carmo'}\n",
    "\n",
    "df_imoveis['Bairro'] = df_imoveis['Bairro'].apply(replace_with_fallback)\n",
    "\n",
    "df_imoveis.head(3)"
   ]
  },
  {
   "cell_type": "code",
   "execution_count": 55,
   "metadata": {},
   "outputs": [
    {
     "data": {
      "text/plain": [
       "array(['Vila Andrade', 'Itaim Paulista', 'República', 'Santa Cecília',\n",
       "       'Jardim Paulista', 'Moema Índios', 'Moema Pássaros',\n",
       "       'Jardim América', 'Bela Vista', 'Paraíso', 'Centro', 'Cursino',\n",
       "       'Carrão', 'Campo Limpo', 'Morumbi', 'Jardim São Paulo',\n",
       "       'São Lucas', 'Brás', 'Jaraguá', 'Campos Elísios', 'Higienópolis',\n",
       "       'Jaguaré', 'Pirituba', 'Campo Belo', 'Ipiranga', 'Tatuapé',\n",
       "       'Itaim Bibi', 'Limão', 'Tucuruvi', 'Vila Mariana', 'Cidade Ademar',\n",
       "       'Jabaquara', 'Alto de Pinheiros', 'Sacomã', 'Mandaqui',\n",
       "       'Rio Pequeno', 'Vila Olímpia', 'Vila Sônia', 'Aclimação',\n",
       "       'Vila Leopoldina', 'Pinheiros', 'Saúde', 'Campo Grande',\n",
       "       'Bosque da Saúde', 'Vila Medeiros', 'Cachoeirinha', 'Cambuci',\n",
       "       'Freguesia do Ó', 'Brooklin', 'Mooca', 'Perdizes', 'Sumaré',\n",
       "       'Chácara Klabin', 'Santo Amaro', 'Sapopemba', 'Jardim Marajoara',\n",
       "       'Barra Funda', 'Água Rasa', 'Artur Alvim', 'Vila Maria', 'Belém',\n",
       "       'Vila Prudente', 'Vila Formosa', 'Liberdade', 'Parque Interlagos',\n",
       "       'Jardim São Luís', 'Jardim Ângela', 'Cidade Dutra', 'Cangaíba',\n",
       "       'José Bonifácio', 'Vila Madalena', 'Jardim Europa', 'Sé',\n",
       "       'Vila Romana', 'Vila Matilde', 'Santana', 'Aricanduva',\n",
       "       'Capão Redondo', 'Ermelino Matarazzo', 'Cidade Líder',\n",
       "       'Vila Nova Conceição', 'Lajeado', 'Penha', 'Alto da Lapa',\n",
       "       'Bom Retiro', 'Lapa', 'Vila Clementino', 'São Mateus',\n",
       "       'Raposo Tavares', 'Vila Guilherme', 'Iguatemi', 'Ponte Rasa',\n",
       "       'Jardim Paulistano', 'São Miguel Paulista', 'Casa Verde',\n",
       "       'São Domingos', 'Itaquera', 'Brasilândia', 'Guaianases', 'Pari',\n",
       "       'Vila Jacuí', 'Socorro', 'Tremembé', 'Jaçanã', 'Butantã', 'Grajaú',\n",
       "       'Parque do Carmo', 'Pedreira', 'Parque São Rafael',\n",
       "       'Parque Novo Mundo', 'Anhanguera', 'Vila Curuçá', 'Jaguara',\n",
       "       'Perus', 'Cidade Tiradentes', 'Cidade Universitária',\n",
       "       'Jardim Helena', 'Parelheiros'], dtype=object)"
      ]
     },
     "execution_count": 55,
     "metadata": {},
     "output_type": "execute_result"
    }
   ],
   "source": [
    "df_imoveis['Bairro'].unique()"
   ]
  },
  {
   "cell_type": "code",
   "execution_count": 3,
   "metadata": {},
   "outputs": [
    {
     "name": "stdout",
     "output_type": "stream",
     "text": [
      "Quantidade de bairros unicos no DF Imoveis:  118\n",
      "Quantidade de bairros unicos no DF bairro:  57\n"
     ]
    }
   ],
   "source": [
    "print('Quantidade de bairros unicos no DF Imoveis: ', df_imoveis['Bairro'].nunique())\n",
    "print('Quantidade de bairros unicos no DF bairro: ', df_bairro['bairro'].nunique())"
   ]
  },
  {
   "cell_type": "code",
   "execution_count": 6,
   "metadata": {},
   "outputs": [
    {
     "data": {
      "text/plain": [
       "57"
      ]
     },
     "execution_count": 6,
     "metadata": {},
     "output_type": "execute_result"
    }
   ],
   "source": [
    "lista1 = df_imoveis['Bairro'].unique().tolist()\n",
    "lista2 = df_bairro['bairro'].unique().tolist()\n",
    "\n",
    "elementos_em_comum = set(lista1) & set(lista2)\n",
    "len(elementos_em_comum)"
   ]
  },
  {
   "cell_type": "markdown",
   "metadata": {},
   "source": [
    "### Spark -> Transformando os valores necessários"
   ]
  },
  {
   "cell_type": "code",
   "execution_count": null,
   "metadata": {},
   "outputs": [],
   "source": [
    "from pyspark.sql import SparkSession\n",
    "from pyspark.sql.functions import col\n",
    "\n",
    "# Inicializando a sessão Spark\n",
    "spark = SparkSession.builder.appName(\"ReplaceWithFallback\").getOrCreate()\n",
    "\n",
    "# Exemplo de DataFrame\n",
    "data = {'A': [1, 2, 3, 4, 5],\n",
    "        'B': [10, 20, 30, 40, 50]}\n",
    "\n",
    "df = spark.createDataFrame(pd.DataFrame(data))\n",
    "\n",
    "# Dicionário de substituição\n",
    "replace_dict = {2: 200, 4: 400}\n",
    "\n",
    "# Função para aplicar a substituição com fallback para valores não no dicionário\n",
    "def replace_with_fallback(value):\n",
    "    return replace_dict.get(value, value)\n",
    "\n",
    "# Registrando a função UDF (User-Defined Function)\n",
    "from pyspark.sql.functions import udf\n",
    "from pyspark.sql.types import IntegerType\n",
    "\n",
    "replace_udf = udf(replace_with_fallback, IntegerType())\n",
    "\n",
    "# Aplicando a UDF à coluna 'A'\n",
    "df = df.withColumn('A', replace_udf(col('A')))\n",
    "\n",
    "df.show()\n",
    "\n",
    "# Encerrando a sessão Spark\n",
    "spark.stop()"
   ]
  },
  {
   "cell_type": "markdown",
   "metadata": {},
   "source": [
    "## Analisando Media_Bairro2"
   ]
  },
  {
   "cell_type": "code",
   "execution_count": 34,
   "metadata": {},
   "outputs": [
    {
     "data": {
      "text/html": [
       "<div>\n",
       "<style scoped>\n",
       "    .dataframe tbody tr th:only-of-type {\n",
       "        vertical-align: middle;\n",
       "    }\n",
       "\n",
       "    .dataframe tbody tr th {\n",
       "        vertical-align: top;\n",
       "    }\n",
       "\n",
       "    .dataframe thead th {\n",
       "        text-align: right;\n",
       "    }\n",
       "</style>\n",
       "<table border=\"1\" class=\"dataframe\">\n",
       "  <thead>\n",
       "    <tr style=\"text-align: right;\">\n",
       "      <th></th>\n",
       "      <th>bairro</th>\n",
       "      <th>valor/m2</th>\n",
       "    </tr>\n",
       "  </thead>\n",
       "  <tbody>\n",
       "    <tr>\n",
       "      <th>0</th>\n",
       "      <td>Vila Mariana</td>\n",
       "      <td>10000</td>\n",
       "    </tr>\n",
       "    <tr>\n",
       "      <th>1</th>\n",
       "      <td>Morumbi</td>\n",
       "      <td>6380</td>\n",
       "    </tr>\n",
       "    <tr>\n",
       "      <th>2</th>\n",
       "      <td>Moema</td>\n",
       "      <td>10910</td>\n",
       "    </tr>\n",
       "    <tr>\n",
       "      <th>3</th>\n",
       "      <td>Saúde</td>\n",
       "      <td>8380</td>\n",
       "    </tr>\n",
       "    <tr>\n",
       "      <th>4</th>\n",
       "      <td>Ipiranga</td>\n",
       "      <td>7800</td>\n",
       "    </tr>\n",
       "  </tbody>\n",
       "</table>\n",
       "</div>"
      ],
      "text/plain": [
       "         bairro  valor/m2\n",
       "0  Vila Mariana     10000\n",
       "1       Morumbi      6380\n",
       "2         Moema     10910\n",
       "3         Saúde      8380\n",
       "4      Ipiranga      7800"
      ]
     },
     "execution_count": 34,
     "metadata": {},
     "output_type": "execute_result"
    }
   ],
   "source": [
    "df_bairro2 = pd.read_csv('media_bairro2.csv')\n",
    "df_bairro2 = df_bairro2.rename(columns={'Bairro': 'bairro', 'Valor médio m²': 'valor/m2'})\n",
    "df_bairro2['valor/m2'] = df_bairro2['valor/m2'].apply(lambda x: x.replace('R$ ', '').replace('.', '').replace(',00', ''))\n",
    "df_bairro2['valor/m2'] = df_bairro2['valor/m2'].str.replace(',', '').astype('int64')\n",
    "df_bairro2.head()"
   ]
  }
 ],
 "metadata": {
  "kernelspec": {
   "display_name": "base",
   "language": "python",
   "name": "python3"
  },
  "language_info": {
   "codemirror_mode": {
    "name": "ipython",
    "version": 3
   },
   "file_extension": ".py",
   "mimetype": "text/x-python",
   "name": "python",
   "nbconvert_exporter": "python",
   "pygments_lexer": "ipython3",
   "version": "3.10.9"
  },
  "orig_nbformat": 4
 },
 "nbformat": 4,
 "nbformat_minor": 2
}
